{
 "cells": [
  {
   "cell_type": "markdown",
   "metadata": {},
   "source": [
    "# Weather Data - Data Cleaning and Preprocessing\n",
    "## Data Science - CS 334\n",
    "---------------------------------------------------------"
   ]
  },
  {
   "cell_type": "markdown",
   "metadata": {},
   "source": [
    "### Dataset\n",
    "- The weather dataset is a messy, real-world dataset containing an entire year’s worth of weather data from Boston, USA. \n",
    "- This dataframe has a lot of problems regarding the quality of the data. \n",
    "- The goal for this part of the assignment is to clean the data so it can be later used for insightful analysis."
   ]
  },
  {
   "cell_type": "markdown",
   "metadata": {},
   "source": [
    "### Importing Libraries\n",
    "-----------------------------"
   ]
  },
  {
   "cell_type": "code",
   "execution_count": 1,
   "metadata": {},
   "outputs": [],
   "source": [
    "import numpy as np\n",
    "import pandas as pd\n",
    "import matplotlib.pyplot as plt\n",
    "%matplotlib inline\n",
    "import seaborn as sns\n",
    "sns.set()"
   ]
  },
  {
   "cell_type": "code",
   "execution_count": 2,
   "metadata": {},
   "outputs": [
    {
     "name": "stdout",
     "output_type": "stream",
     "text": [
      "(366, 23)\n"
     ]
    },
    {
     "data": {
      "text/html": [
       "<div>\n",
       "<style scoped>\n",
       "    .dataframe tbody tr th:only-of-type {\n",
       "        vertical-align: middle;\n",
       "    }\n",
       "\n",
       "    .dataframe tbody tr th {\n",
       "        vertical-align: top;\n",
       "    }\n",
       "\n",
       "    .dataframe thead th {\n",
       "        text-align: right;\n",
       "    }\n",
       "</style>\n",
       "<table border=\"1\" class=\"dataframe\">\n",
       "  <thead>\n",
       "    <tr style=\"text-align: right;\">\n",
       "      <th></th>\n",
       "      <th>CloudCover</th>\n",
       "      <th>Events</th>\n",
       "      <th>Max.Dew.PointF</th>\n",
       "      <th>Max.Gust.SpeedMPH</th>\n",
       "      <th>Max.Humidity</th>\n",
       "      <th>Max.Sea.Level.PressureIn</th>\n",
       "      <th>Max.TemperatureF</th>\n",
       "      <th>Max.VisibilityMiles</th>\n",
       "      <th>Max.Wind.SpeedMPH</th>\n",
       "      <th>Mean.Humidity</th>\n",
       "      <th>...</th>\n",
       "      <th>Mean.Wind.SpeedMPH</th>\n",
       "      <th>MeanDew.PointF</th>\n",
       "      <th>Min.DewpointF</th>\n",
       "      <th>Min.Humidity</th>\n",
       "      <th>Min.Sea.Level.PressureIn</th>\n",
       "      <th>Min.TemperatureF</th>\n",
       "      <th>Min.VisibilityMiles</th>\n",
       "      <th>PrecipitationIn</th>\n",
       "      <th>WindDirDegrees</th>\n",
       "      <th>Date</th>\n",
       "    </tr>\n",
       "  </thead>\n",
       "  <tbody>\n",
       "    <tr>\n",
       "      <th>0</th>\n",
       "      <td>'6'</td>\n",
       "      <td>'Rain'</td>\n",
       "      <td>'46'</td>\n",
       "      <td>'29'</td>\n",
       "      <td>'74'</td>\n",
       "      <td>'30.45'</td>\n",
       "      <td>'64'</td>\n",
       "      <td>'10'</td>\n",
       "      <td>'22'</td>\n",
       "      <td>'63'</td>\n",
       "      <td>...</td>\n",
       "      <td>'13'</td>\n",
       "      <td>'40'</td>\n",
       "      <td>'26'</td>\n",
       "      <td>'52'</td>\n",
       "      <td>'30.01'</td>\n",
       "      <td>'39'</td>\n",
       "      <td>'10'</td>\n",
       "      <td>'0.01'</td>\n",
       "      <td>'268'</td>\n",
       "      <td>Year: 2014 Month: 12 Day: 1</td>\n",
       "    </tr>\n",
       "    <tr>\n",
       "      <th>1</th>\n",
       "      <td>'7'</td>\n",
       "      <td>'Rain-Snow'</td>\n",
       "      <td>'40'</td>\n",
       "      <td>'29'</td>\n",
       "      <td>'92'</td>\n",
       "      <td>'30.71'</td>\n",
       "      <td>'42'</td>\n",
       "      <td>'10'</td>\n",
       "      <td>'24'</td>\n",
       "      <td>'72'</td>\n",
       "      <td>...</td>\n",
       "      <td>'15'</td>\n",
       "      <td>'27'</td>\n",
       "      <td>'17'</td>\n",
       "      <td>'51'</td>\n",
       "      <td>'30.4'</td>\n",
       "      <td>'33'</td>\n",
       "      <td>'2'</td>\n",
       "      <td>'0.10'</td>\n",
       "      <td>'62'</td>\n",
       "      <td>Year: 2014 Month: 12 Day: 2</td>\n",
       "    </tr>\n",
       "    <tr>\n",
       "      <th>2</th>\n",
       "      <td>'8'</td>\n",
       "      <td>'Rain'</td>\n",
       "      <td>'49'</td>\n",
       "      <td>'38'</td>\n",
       "      <td>'100'</td>\n",
       "      <td>'30.4'</td>\n",
       "      <td>'51'</td>\n",
       "      <td>'10'</td>\n",
       "      <td>'29'</td>\n",
       "      <td>'79'</td>\n",
       "      <td>...</td>\n",
       "      <td>'12'</td>\n",
       "      <td>'42'</td>\n",
       "      <td>'24'</td>\n",
       "      <td>'57'</td>\n",
       "      <td>'29.87'</td>\n",
       "      <td>'37'</td>\n",
       "      <td>'1'</td>\n",
       "      <td>'0.44'</td>\n",
       "      <td>'254'</td>\n",
       "      <td>Year: 2014 Month: 12 Day: 3</td>\n",
       "    </tr>\n",
       "    <tr>\n",
       "      <th>3</th>\n",
       "      <td>'3'</td>\n",
       "      <td>NaN</td>\n",
       "      <td>'24'</td>\n",
       "      <td>'33'</td>\n",
       "      <td>'69'</td>\n",
       "      <td>'30.56'</td>\n",
       "      <td>'43'</td>\n",
       "      <td>'10'</td>\n",
       "      <td>'25'</td>\n",
       "      <td>'54'</td>\n",
       "      <td>...</td>\n",
       "      <td>'12'</td>\n",
       "      <td>'21'</td>\n",
       "      <td>'13'</td>\n",
       "      <td>'39'</td>\n",
       "      <td>'30.09'</td>\n",
       "      <td>'30'</td>\n",
       "      <td>'10'</td>\n",
       "      <td>'0.00'</td>\n",
       "      <td>'292'</td>\n",
       "      <td>Year: 2014 Month: 12 Day: 4</td>\n",
       "    </tr>\n",
       "    <tr>\n",
       "      <th>4</th>\n",
       "      <td>'5'</td>\n",
       "      <td>'Rain'</td>\n",
       "      <td>'37'</td>\n",
       "      <td>'26'</td>\n",
       "      <td>'85'</td>\n",
       "      <td>'30.68'</td>\n",
       "      <td>'42'</td>\n",
       "      <td>'10'</td>\n",
       "      <td>'22'</td>\n",
       "      <td>'66'</td>\n",
       "      <td>...</td>\n",
       "      <td>'10'</td>\n",
       "      <td>'25'</td>\n",
       "      <td>'12'</td>\n",
       "      <td>'47'</td>\n",
       "      <td>'30.45'</td>\n",
       "      <td>'26'</td>\n",
       "      <td>'5'</td>\n",
       "      <td>'0.11'</td>\n",
       "      <td>'61'</td>\n",
       "      <td>Year: 2014 Month: 12 Day: 5</td>\n",
       "    </tr>\n",
       "  </tbody>\n",
       "</table>\n",
       "<p>5 rows × 23 columns</p>\n",
       "</div>"
      ],
      "text/plain": [
       "  CloudCover       Events Max.Dew.PointF Max.Gust.SpeedMPH Max.Humidity  \\\n",
       "0        '6'       'Rain'           '46'              '29'         '74'   \n",
       "1        '7'  'Rain-Snow'           '40'              '29'         '92'   \n",
       "2        '8'       'Rain'           '49'              '38'        '100'   \n",
       "3        '3'          NaN           '24'              '33'         '69'   \n",
       "4        '5'       'Rain'           '37'              '26'         '85'   \n",
       "\n",
       "  Max.Sea.Level.PressureIn Max.TemperatureF Max.VisibilityMiles  \\\n",
       "0                  '30.45'             '64'                '10'   \n",
       "1                  '30.71'             '42'                '10'   \n",
       "2                   '30.4'             '51'                '10'   \n",
       "3                  '30.56'             '43'                '10'   \n",
       "4                  '30.68'             '42'                '10'   \n",
       "\n",
       "  Max.Wind.SpeedMPH Mean.Humidity  ... Mean.Wind.SpeedMPH MeanDew.PointF  \\\n",
       "0              '22'          '63'  ...               '13'           '40'   \n",
       "1              '24'          '72'  ...               '15'           '27'   \n",
       "2              '29'          '79'  ...               '12'           '42'   \n",
       "3              '25'          '54'  ...               '12'           '21'   \n",
       "4              '22'          '66'  ...               '10'           '25'   \n",
       "\n",
       "  Min.DewpointF Min.Humidity Min.Sea.Level.PressureIn Min.TemperatureF  \\\n",
       "0          '26'         '52'                  '30.01'             '39'   \n",
       "1          '17'         '51'                   '30.4'             '33'   \n",
       "2          '24'         '57'                  '29.87'             '37'   \n",
       "3          '13'         '39'                  '30.09'             '30'   \n",
       "4          '12'         '47'                  '30.45'             '26'   \n",
       "\n",
       "  Min.VisibilityMiles PrecipitationIn WindDirDegrees  \\\n",
       "0                '10'          '0.01'          '268'   \n",
       "1                 '2'          '0.10'           '62'   \n",
       "2                 '1'          '0.44'          '254'   \n",
       "3                '10'          '0.00'          '292'   \n",
       "4                 '5'          '0.11'           '61'   \n",
       "\n",
       "                          Date  \n",
       "0  Year: 2014 Month: 12 Day: 1  \n",
       "1  Year: 2014 Month: 12 Day: 2  \n",
       "2  Year: 2014 Month: 12 Day: 3  \n",
       "3  Year: 2014 Month: 12 Day: 4  \n",
       "4  Year: 2014 Month: 12 Day: 5  \n",
       "\n",
       "[5 rows x 23 columns]"
      ]
     },
     "execution_count": 2,
     "metadata": {},
     "output_type": "execute_result"
    }
   ],
   "source": [
    "#Loading data\n",
    "df = pd.read_csv('weather_start.csv')\n",
    "print(df.shape)\n",
    "df.head()"
   ]
  },
  {
   "cell_type": "markdown",
   "metadata": {},
   "source": [
    "<div style=\"color: pink; \n",
    "            background-color: #b73239;\n",
    "            border-radius: 5px;\n",
    "            padding: 5px 5px 5px 5px;\n",
    "            display: inline-block\">\n",
    "    If you get a `SettingWithCopyWarning:` when using pandas, you can almost always ignore it. \n",
    "</div>"
   ]
  },
  {
   "cell_type": "markdown",
   "metadata": {},
   "source": [
    "## Cleaning Part I: Data Formats and Types\n",
    "\n",
    "--------------------------------------------------"
   ]
  },
  {
   "cell_type": "markdown",
   "metadata": {},
   "source": [
    "- We can see the `Date` column has the information in a weird text-based style. So the first order of business is to parse the `Date` column and obtain separate year, month and day columns as integer values.You will use regex for this.Then you will combine these three columns using `pd.to_datetime` to create a datetime column which is a special type in pandas. It gives you some amazing funcitonality.\n",
    "- Then you have individual weather related measurements (`Max.TemperatureF`, `Max.Dew.PointF` etc) but the values of these columns have quotes around them ('') so these need to be cleaned.\n",
    "- For the weather related columns you need to fix the types. Pandas documentation is your friend so use it!\n",
    "- You should also keep an eye out for inconsistent encodings.  Everything is a string, that means encoding issues can be present. These are more common in categorical variables like a column describing gender has both full words (female, male) and letters (f, m). You will need to properly standardise this issue.\n",
    "- Everything is a string. This is a sign of a long day (maybe not?) of data cleaning ahead. Good Luck!"
   ]
  },
  {
   "cell_type": "markdown",
   "metadata": {},
   "source": [
    "## 1) Combination of the Date Fields\n",
    "- In this one, I extracted all three fields - Year, Month and Day from the Date field and made three separate fields. Then I combined them all using the pd_to_datetime function "
   ]
  },
  {
   "cell_type": "code",
   "execution_count": 3,
   "metadata": {},
   "outputs": [],
   "source": [
    "## Start of Part 1\n",
    "\n",
    "# For Year, I extracted the first four integers first. \n",
    "df['Year'] = df['Date'].str.extract(r'([0-9][0-9][0-9][0-9])', expand=True)\n",
    "\n",
    "# For Month, I just extracted it by indexing.\n",
    "df['Month'] = df['Date'].str[17:20]\n",
    "\n",
    "# For Day, I extracted it by getting the last digit.\n",
    "df['Day'] = df['Date'].str.extract(r'(\\d+$)', expand=True)\n",
    "\n",
    "# Combined All three to create a datetime column.\n",
    "df['Date'] = pd.to_datetime(df['Year']+'  '+ df['Month']+'  '+ df['Day'])\n",
    "\n",
    "# After combining, I just dropped all the new Columns of Year, Month and Day that I made. The axis = 1 is used as we have to\n",
    "# drop the Year, Month and Day Columns (Axis 1 works on Columns).\n",
    "df.drop('Year', axis=1, inplace=True)\n",
    "df.drop('Month', axis=1, inplace=True)\n",
    "df.drop('Day', axis=1, inplace=True)\n",
    "\n",
    "# df.head()"
   ]
  },
  {
   "cell_type": "markdown",
   "metadata": {},
   "source": [
    "## 2) Removing Quotes"
   ]
  },
  {
   "cell_type": "code",
   "execution_count": 4,
   "metadata": {},
   "outputs": [],
   "source": [
    "# Replaced all quotes(single '') with empty string.\n",
    "df = df.replace({\"'\":\"\"}, regex=True)\n",
    "\n",
    "# df.head()"
   ]
  },
  {
   "cell_type": "markdown",
   "metadata": {},
   "source": [
    "## 3) Changing Data Types to Float"
   ]
  },
  {
   "cell_type": "code",
   "execution_count": 5,
   "metadata": {},
   "outputs": [],
   "source": [
    "# T actually refers to Trace Precipitation which basically indicates that precipitation has failed but precision is too \n",
    "# negligible for it to be tested. So we just replace it with 0. Reason : No Idea\n",
    "df['PrecipitationIn'] = df['PrecipitationIn'].str.replace(\"T\", \"0.00\") \n",
    "\n",
    "# I just changed the datatype for all columns columns to float64 with Events and Date being an exception. Because\n",
    "# the weather_clean.pkl file displays float values.\n",
    "excluded_cols = [i for i in df.columns if i not in [\"Events\",\"Date\"]]\n",
    "for index in excluded_cols:\n",
    "    df[index] = df[index].astype(np.float64)\n",
    "    \n",
    "# df.head()"
   ]
  },
  {
   "cell_type": "markdown",
   "metadata": {},
   "source": [
    "## 4) Replacing NAN Values\n",
    "- Replaced NAN values in Events with None\n",
    "- Replaced NAN values in the Weather Field with its median as this wouldn't cause it to become an outlier and have an effect on the dataset"
   ]
  },
  {
   "cell_type": "code",
   "execution_count": 6,
   "metadata": {},
   "outputs": [],
   "source": [
    "# To cater for the NAN values in the Events Table, I replaced it with None as in the Table, there were no values present \n",
    "# for these cell of the Events Column provided and I did this because maybe nothing happened that day.\n",
    "df['Events'].fillna(value='None', inplace=True)\n",
    "\n",
    "# To cater for the NAN values in the Max Gust Table, I replaced it with the median of the column. \n",
    "df['Max.Gust.SpeedMPH'].fillna(value=df['Max.Gust.SpeedMPH'].median(), inplace=True)\n",
    "\n",
    "# df.head()"
   ]
  },
  {
   "cell_type": "markdown",
   "metadata": {},
   "source": [
    "## Distributions + Removing outliers + Imputing missing values\n",
    "\n",
    "-----------------------------------------------------------------\n",
    "\n",
    "- Now, you can start the process of data cleaning and exploration as these two things go hand-in-hand. Look for missing values and outliers. You can use different methods to find these problem points using visual methods like plots or analytical methods like summary statistics. \n",
    "- Look at what plots can be used to find outliers. Which columns have outliers? What are those values? What did you to process them?\n",
    "- Which columns have missing values? Find all the columns of possible missing values and impute them using the correct method.\n",
    "- Check for positive and negative values for all columns. Is there any value which is not allowed to be in a column? What can be done to correct these?"
   ]
  },
  {
   "cell_type": "markdown",
   "metadata": {},
   "source": [
    "### Ways to Detect and Remove the Outliers?\n",
    "#### Visualisation: Scatter Plot  | Box Plot\n",
    "\n",
    "#### Statistics (IQR or Z-Score):\n",
    "- You should use Z score method only if your data is normally distributed. \n",
    "- Since Data is not normally distributed here, we should use IQR.\n",
    "\n"
   ]
  },
  {
   "cell_type": "markdown",
   "metadata": {},
   "source": [
    "## Using IQR and making a Box Plot To Check for Outliers wali Columns\n",
    "- First I used the IQR to separate the outlier wali columns from the whole dataframe. Then I made a plot to look at the outliers"
   ]
  },
  {
   "cell_type": "code",
   "execution_count": 7,
   "metadata": {},
   "outputs": [
    {
     "data": {
      "text/plain": [
       "<matplotlib.axes._subplots.AxesSubplot at 0xb2768d0>"
      ]
     },
     "execution_count": 7,
     "metadata": {},
     "output_type": "execute_result"
    },
    {
     "data": {
      "image/png": "[encoded data removed]",
      "text/plain": [
       "<Figure size 1440x648 with 1 Axes>"
      ]
     },
     "metadata": {},
     "output_type": "display_data"
    }
   ],
   "source": [
    "newdf = df.loc[: , 'Max.Dew.PointF':'WindDirDegrees']\n",
    "\n",
    "quartile_1 = newdf.quantile(0.25)\n",
    "quartile_3 = newdf.quantile(0.75)\n",
    "IQR = quartile_3 - quartile_1\n",
    "\n",
    "# Used for finding out which columns have outliers\n",
    "outlierCount = ((newdf < (quartile_1 - 1.5 * IQR)) |(newdf > (quartile_3 + 1.5 * IQR))).sum()\n",
    "\n",
    "# Combined those columns separately from the others\n",
    "evenmoreNew = newdf[[\"Max.Gust.SpeedMPH\",\"Max.Humidity\",\"Max.Sea.Level.PressureIn\",\"Max.VisibilityMiles\" ,\"Max.Wind.SpeedMPH\",\"Mean.Sea.Level.PressureIn\",\"Mean.VisibilityMiles\",\"Mean.Wind.SpeedMPH\",\"Min.Sea.Level.PressureIn\",\"PrecipitationIn\"]]\n",
    "\n",
    "# Made a Plot to check out of all the columns with outliers\n",
    "sns.set(rc={'figure.figsize':(20,9)})\n",
    "sns.boxplot(data=evenmoreNew)\n"
   ]
  },
  {
   "cell_type": "markdown",
   "metadata": {},
   "source": [
    "##### Outlier Columns to be replaced after plotting and analysing data\n",
    "- Max.Humidity\n",
    "- Mean.VisibilityMiles\n"
   ]
  },
  {
   "cell_type": "markdown",
   "metadata": {},
   "source": [
    "## Replacing Outlier Values of some specific columns and plotting a Box Plot"
   ]
  },
  {
   "cell_type": "code",
   "execution_count": 8,
   "metadata": {},
   "outputs": [
    {
     "data": {
      "text/plain": [
       "<matplotlib.axes._subplots.AxesSubplot at 0xbb10130>"
      ]
     },
     "execution_count": 8,
     "metadata": {},
     "output_type": "execute_result"
    },
    {
     "data": {
      "image/png": "[encoded data removed]",
      "text/plain": [
       "<Figure size 1296x648 with 1 Axes>"
      ]
     },
     "metadata": {},
     "output_type": "display_data"
    }
   ],
   "source": [
    "# Separated the columns that had more weird values\n",
    "newD = evenmoreNew.filter(['Max.Humidity', 'Mean.VisibilityMiles'], axis=1)\n",
    "\n",
    "mask = (newD < (quartile_1 - 1.5 * IQR)) | (newD > (quartile_3 + 1.5 * IQR))\n",
    "newD[mask] = np.nan\n",
    "\n",
    "newD.fillna(value=newD.median(), inplace=True)\n",
    "\n",
    "# Made a Plot to check after replacing the outliers with the median\n",
    "sns.set(rc={'figure.figsize':(18,9)})\n",
    "sns.boxplot(data=newD)"
   ]
  },
  {
   "cell_type": "markdown",
   "metadata": {},
   "source": [
    "## Replacing the Values of Original Dataframe with Updated Values"
   ]
  },
  {
   "cell_type": "code",
   "execution_count": 9,
   "metadata": {},
   "outputs": [],
   "source": [
    "## Replacing the values of my original Dataframe with the Updated Dataframe (outliers have been replaced)\n",
    "df['Max.Humidity'] = newD['Max.Humidity']\n",
    "df['Mean.VisibilityMiles'] = newD['Mean.VisibilityMiles']\n",
    "\n",
    "# df.head()"
   ]
  },
  {
   "cell_type": "markdown",
   "metadata": {},
   "source": [
    "Your dataset should look like `weather_clean.pkl` file at the end. Use it as a refrence."
   ]
  },
  {
   "cell_type": "markdown",
   "metadata": {},
   "source": [
    "Let's take a look at our final cleaned dataset before saving it for analysis. We will save it as a 'pickle', a binary file format which will preserve out column types. Text-based file formats like csv and json do not preserve column data types. "
   ]
  },
  {
   "cell_type": "code",
   "execution_count": 10,
   "metadata": {},
   "outputs": [
    {
     "data": {
      "text/html": [
       "<div>\n",
       "<style scoped>\n",
       "    .dataframe tbody tr th:only-of-type {\n",
       "        vertical-align: middle;\n",
       "    }\n",
       "\n",
       "    .dataframe tbody tr th {\n",
       "        vertical-align: top;\n",
       "    }\n",
       "\n",
       "    .dataframe thead th {\n",
       "        text-align: right;\n",
       "    }\n",
       "</style>\n",
       "<table border=\"1\" class=\"dataframe\">\n",
       "  <thead>\n",
       "    <tr style=\"text-align: right;\">\n",
       "      <th></th>\n",
       "      <th>CloudCover</th>\n",
       "      <th>Events</th>\n",
       "      <th>Max.Dew.PointF</th>\n",
       "      <th>Max.Gust.SpeedMPH</th>\n",
       "      <th>Max.Humidity</th>\n",
       "      <th>Max.Sea.Level.PressureIn</th>\n",
       "      <th>Max.TemperatureF</th>\n",
       "      <th>Max.VisibilityMiles</th>\n",
       "      <th>Max.Wind.SpeedMPH</th>\n",
       "      <th>Mean.Humidity</th>\n",
       "      <th>...</th>\n",
       "      <th>Mean.Wind.SpeedMPH</th>\n",
       "      <th>MeanDew.PointF</th>\n",
       "      <th>Min.DewpointF</th>\n",
       "      <th>Min.Humidity</th>\n",
       "      <th>Min.Sea.Level.PressureIn</th>\n",
       "      <th>Min.TemperatureF</th>\n",
       "      <th>Min.VisibilityMiles</th>\n",
       "      <th>PrecipitationIn</th>\n",
       "      <th>WindDirDegrees</th>\n",
       "      <th>Date</th>\n",
       "    </tr>\n",
       "  </thead>\n",
       "  <tbody>\n",
       "    <tr>\n",
       "      <th>0</th>\n",
       "      <td>6.0</td>\n",
       "      <td>Rain</td>\n",
       "      <td>46.0</td>\n",
       "      <td>29.0</td>\n",
       "      <td>74.0</td>\n",
       "      <td>30.45</td>\n",
       "      <td>64.0</td>\n",
       "      <td>10.0</td>\n",
       "      <td>22.0</td>\n",
       "      <td>63.0</td>\n",
       "      <td>...</td>\n",
       "      <td>13.0</td>\n",
       "      <td>40.0</td>\n",
       "      <td>26.0</td>\n",
       "      <td>52.0</td>\n",
       "      <td>30.01</td>\n",
       "      <td>39.0</td>\n",
       "      <td>10.0</td>\n",
       "      <td>0.01</td>\n",
       "      <td>268.0</td>\n",
       "      <td>2014-12-01</td>\n",
       "    </tr>\n",
       "    <tr>\n",
       "      <th>1</th>\n",
       "      <td>7.0</td>\n",
       "      <td>Rain-Snow</td>\n",
       "      <td>40.0</td>\n",
       "      <td>29.0</td>\n",
       "      <td>92.0</td>\n",
       "      <td>30.71</td>\n",
       "      <td>42.0</td>\n",
       "      <td>10.0</td>\n",
       "      <td>24.0</td>\n",
       "      <td>72.0</td>\n",
       "      <td>...</td>\n",
       "      <td>15.0</td>\n",
       "      <td>27.0</td>\n",
       "      <td>17.0</td>\n",
       "      <td>51.0</td>\n",
       "      <td>30.40</td>\n",
       "      <td>33.0</td>\n",
       "      <td>2.0</td>\n",
       "      <td>0.10</td>\n",
       "      <td>62.0</td>\n",
       "      <td>2014-12-02</td>\n",
       "    </tr>\n",
       "    <tr>\n",
       "      <th>2</th>\n",
       "      <td>8.0</td>\n",
       "      <td>Rain</td>\n",
       "      <td>49.0</td>\n",
       "      <td>38.0</td>\n",
       "      <td>100.0</td>\n",
       "      <td>30.40</td>\n",
       "      <td>51.0</td>\n",
       "      <td>10.0</td>\n",
       "      <td>29.0</td>\n",
       "      <td>79.0</td>\n",
       "      <td>...</td>\n",
       "      <td>12.0</td>\n",
       "      <td>42.0</td>\n",
       "      <td>24.0</td>\n",
       "      <td>57.0</td>\n",
       "      <td>29.87</td>\n",
       "      <td>37.0</td>\n",
       "      <td>1.0</td>\n",
       "      <td>0.44</td>\n",
       "      <td>254.0</td>\n",
       "      <td>2014-12-03</td>\n",
       "    </tr>\n",
       "    <tr>\n",
       "      <th>3</th>\n",
       "      <td>3.0</td>\n",
       "      <td>None</td>\n",
       "      <td>24.0</td>\n",
       "      <td>33.0</td>\n",
       "      <td>69.0</td>\n",
       "      <td>30.56</td>\n",
       "      <td>43.0</td>\n",
       "      <td>10.0</td>\n",
       "      <td>25.0</td>\n",
       "      <td>54.0</td>\n",
       "      <td>...</td>\n",
       "      <td>12.0</td>\n",
       "      <td>21.0</td>\n",
       "      <td>13.0</td>\n",
       "      <td>39.0</td>\n",
       "      <td>30.09</td>\n",
       "      <td>30.0</td>\n",
       "      <td>10.0</td>\n",
       "      <td>0.00</td>\n",
       "      <td>292.0</td>\n",
       "      <td>2014-12-04</td>\n",
       "    </tr>\n",
       "    <tr>\n",
       "      <th>4</th>\n",
       "      <td>5.0</td>\n",
       "      <td>Rain</td>\n",
       "      <td>37.0</td>\n",
       "      <td>26.0</td>\n",
       "      <td>85.0</td>\n",
       "      <td>30.68</td>\n",
       "      <td>42.0</td>\n",
       "      <td>10.0</td>\n",
       "      <td>22.0</td>\n",
       "      <td>66.0</td>\n",
       "      <td>...</td>\n",
       "      <td>10.0</td>\n",
       "      <td>25.0</td>\n",
       "      <td>12.0</td>\n",
       "      <td>47.0</td>\n",
       "      <td>30.45</td>\n",
       "      <td>26.0</td>\n",
       "      <td>5.0</td>\n",
       "      <td>0.11</td>\n",
       "      <td>61.0</td>\n",
       "      <td>2014-12-05</td>\n",
       "    </tr>\n",
       "  </tbody>\n",
       "</table>\n",
       "<p>5 rows × 23 columns</p>\n",
       "</div>"
      ],
      "text/plain": [
       "   CloudCover     Events  Max.Dew.PointF  Max.Gust.SpeedMPH  Max.Humidity  \\\n",
       "0         6.0       Rain            46.0               29.0          74.0   \n",
       "1         7.0  Rain-Snow            40.0               29.0          92.0   \n",
       "2         8.0       Rain            49.0               38.0         100.0   \n",
       "3         3.0       None            24.0               33.0          69.0   \n",
       "4         5.0       Rain            37.0               26.0          85.0   \n",
       "\n",
       "   Max.Sea.Level.PressureIn  Max.TemperatureF  Max.VisibilityMiles  \\\n",
       "0                     30.45              64.0                 10.0   \n",
       "1                     30.71              42.0                 10.0   \n",
       "2                     30.40              51.0                 10.0   \n",
       "3                     30.56              43.0                 10.0   \n",
       "4                     30.68              42.0                 10.0   \n",
       "\n",
       "   Max.Wind.SpeedMPH  Mean.Humidity  ...  Mean.Wind.SpeedMPH  MeanDew.PointF  \\\n",
       "0               22.0           63.0  ...                13.0            40.0   \n",
       "1               24.0           72.0  ...                15.0            27.0   \n",
       "2               29.0           79.0  ...                12.0            42.0   \n",
       "3               25.0           54.0  ...                12.0            21.0   \n",
       "4               22.0           66.0  ...                10.0            25.0   \n",
       "\n",
       "   Min.DewpointF  Min.Humidity  Min.Sea.Level.PressureIn  Min.TemperatureF  \\\n",
       "0           26.0          52.0                     30.01              39.0   \n",
       "1           17.0          51.0                     30.40              33.0   \n",
       "2           24.0          57.0                     29.87              37.0   \n",
       "3           13.0          39.0                     30.09              30.0   \n",
       "4           12.0          47.0                     30.45              26.0   \n",
       "\n",
       "   Min.VisibilityMiles  PrecipitationIn  WindDirDegrees       Date  \n",
       "0                 10.0             0.01           268.0 2014-12-01  \n",
       "1                  2.0             0.10            62.0 2014-12-02  \n",
       "2                  1.0             0.44           254.0 2014-12-03  \n",
       "3                 10.0             0.00           292.0 2014-12-04  \n",
       "4                  5.0             0.11            61.0 2014-12-05  \n",
       "\n",
       "[5 rows x 23 columns]"
      ]
     },
     "execution_count": 10,
     "metadata": {},
     "output_type": "execute_result"
    }
   ],
   "source": [
    "df.head()"
   ]
  },
  {
   "cell_type": "code",
   "execution_count": 11,
   "metadata": {},
   "outputs": [],
   "source": [
    "#save the cleaned dataset\n",
    "df.to_pickle('weather_clean.pkl')"
   ]
  }
 ],
 "metadata": {
  "kernelspec": {
   "display_name": "Python 3",
   "language": "python",
   "name": "python3"
  },
  "language_info": {
   "codemirror_mode": {
    "name": "ipython",
    "version": 3
   },
   "file_extension": ".py",
   "mimetype": "text/x-python",
   "name": "python",
   "nbconvert_exporter": "python",
   "pygments_lexer": "ipython3",
   "version": "3.7.3"
  },
  "widgets": {
   "application/vnd.jupyter.widget-state+json": {
    "state": {},
    "version_major": 2,
    "version_minor": 0
   }
  }
 },
 "nbformat": 4,
 "nbformat_minor": 4
}
