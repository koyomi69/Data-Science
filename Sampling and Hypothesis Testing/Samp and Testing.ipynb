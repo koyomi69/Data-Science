{
 "cells": [
  {
   "cell_type": "markdown",
   "metadata": {},
   "source": [
    "# Sampling and Hypothesis Testing"
   ]
  },
  {
   "cell_type": "code",
   "execution_count": 69,
   "metadata": {
    "ExecuteTime": {
     "end_time": "2019-11-14T17:20:17.750335Z",
     "start_time": "2019-11-14T17:20:17.741578Z"
    }
   },
   "outputs": [],
   "source": [
    "#Libraries\n",
    "import numpy as np \n",
    "import pandas as pd \n",
    "pd.options.mode.chained_assignment = None\n",
    "from matplotlib import pyplot as plt\n",
    "from sklearn import preprocessing\n",
    "from scipy.stats import ttest_1samp\n",
    "import os"
   ]
  },
  {
   "cell_type": "markdown",
   "metadata": {},
   "source": [
    "# Visa Shopping"
   ]
  },
  {
   "cell_type": "markdown",
   "metadata": {},
   "source": [
    "Visa shopping: It is where someone would apply in a specific consulate in order to have higher odds of getting the visa or getting a higher tier visa in general. The idea itself seemed to have a lot of rumours around it and the only way to consider it a myth/reality is by doing proper analysis over real data. Luckily, the data is here."
   ]
  },
  {
   "cell_type": "markdown",
   "metadata": {},
   "source": [
    "# Your job is to appropriately sample and run hypothesis testing to prove/disprove whether Visa-shopping is real. "
   ]
  },
  {
   "cell_type": "markdown",
   "metadata": {},
   "source": [
    "We are trying to figure out the best consulates to apply for to have the highest odds for receiving a uniform visa in general, or a multiple entry visa (MEV) in particular."
   ]
  },
  {
   "cell_type": "code",
   "execution_count": 70,
   "metadata": {
    "ExecuteTime": {
     "end_time": "2019-11-14T17:20:18.626273Z",
     "start_time": "2019-11-14T17:20:18.559242Z"
    }
   },
   "outputs": [
    {
     "data": {
      "text/html": [
       "<div>\n",
       "<style scoped>\n",
       "    .dataframe tbody tr th:only-of-type {\n",
       "        vertical-align: middle;\n",
       "    }\n",
       "\n",
       "    .dataframe tbody tr th {\n",
       "        vertical-align: top;\n",
       "    }\n",
       "\n",
       "    .dataframe thead th {\n",
       "        text-align: right;\n",
       "    }\n",
       "</style>\n",
       "<table border=\"1\" class=\"dataframe\">\n",
       "  <thead>\n",
       "    <tr style=\"text-align: right;\">\n",
       "      <th></th>\n",
       "      <th>Schengen State</th>\n",
       "      <th>Country where consulate is located</th>\n",
       "      <th>Consulate</th>\n",
       "      <th>Airport transit visas (ATVs) applied for</th>\n",
       "      <th>ATVs issued (including multiple)</th>\n",
       "      <th>Multiple ATVs issued</th>\n",
       "      <th>ATVs not issued</th>\n",
       "      <th>Not issued rate for ATVs</th>\n",
       "      <th>Uniform visas applied for</th>\n",
       "      <th>Total  uniform visas issued (including MEV)</th>\n",
       "      <th>Multiple entry uniform visas (MEVs) issued</th>\n",
       "      <th>Share of MEVs on total number of uniform visas issued</th>\n",
       "      <th>Total LTVs issued</th>\n",
       "      <th>Uniform visas not issued</th>\n",
       "      <th>Not issued rate for uniform visas</th>\n",
       "      <th>Total ATVs and uniform visas applied for</th>\n",
       "      <th>Total ATVs and uniform visas issued  (including multiple ATVs, MEVs and LTVs)</th>\n",
       "      <th>Total ATVs and uniform visas not issued</th>\n",
       "      <th>Not issued rate for ATVs and uniform visas</th>\n",
       "    </tr>\n",
       "  </thead>\n",
       "  <tbody>\n",
       "    <tr>\n",
       "      <th>0</th>\n",
       "      <td>Austria</td>\n",
       "      <td>ALBANIA</td>\n",
       "      <td>TIRANA</td>\n",
       "      <td>NaN</td>\n",
       "      <td>NaN</td>\n",
       "      <td>NaN</td>\n",
       "      <td>NaN</td>\n",
       "      <td>NaN</td>\n",
       "      <td>62</td>\n",
       "      <td>32</td>\n",
       "      <td>10</td>\n",
       "      <td>31.3%</td>\n",
       "      <td>21</td>\n",
       "      <td>9</td>\n",
       "      <td>14.5%</td>\n",
       "      <td>62</td>\n",
       "      <td>53</td>\n",
       "      <td>9</td>\n",
       "      <td>14.5%</td>\n",
       "    </tr>\n",
       "    <tr>\n",
       "      <th>1</th>\n",
       "      <td>Austria</td>\n",
       "      <td>ALGERIA</td>\n",
       "      <td>ALGIERS</td>\n",
       "      <td>NaN</td>\n",
       "      <td>NaN</td>\n",
       "      <td>NaN</td>\n",
       "      <td>NaN</td>\n",
       "      <td>NaN</td>\n",
       "      <td>2481</td>\n",
       "      <td>1658</td>\n",
       "      <td>1461</td>\n",
       "      <td>88.1%</td>\n",
       "      <td>1</td>\n",
       "      <td>822</td>\n",
       "      <td>33.1%</td>\n",
       "      <td>2,481</td>\n",
       "      <td>1,659</td>\n",
       "      <td>822</td>\n",
       "      <td>33.1%</td>\n",
       "    </tr>\n",
       "    <tr>\n",
       "      <th>2</th>\n",
       "      <td>Austria</td>\n",
       "      <td>ARGENTINA</td>\n",
       "      <td>BUENOS AIRES</td>\n",
       "      <td>NaN</td>\n",
       "      <td>NaN</td>\n",
       "      <td>NaN</td>\n",
       "      <td>NaN</td>\n",
       "      <td>NaN</td>\n",
       "      <td>16</td>\n",
       "      <td>16</td>\n",
       "      <td>16</td>\n",
       "      <td>100.0%</td>\n",
       "      <td>NaN</td>\n",
       "      <td>NaN</td>\n",
       "      <td>NaN</td>\n",
       "      <td>16</td>\n",
       "      <td>16</td>\n",
       "      <td>NaN</td>\n",
       "      <td>NaN</td>\n",
       "    </tr>\n",
       "    <tr>\n",
       "      <th>3</th>\n",
       "      <td>Austria</td>\n",
       "      <td>AUSTRALIA</td>\n",
       "      <td>CANBERRA</td>\n",
       "      <td>NaN</td>\n",
       "      <td>NaN</td>\n",
       "      <td>NaN</td>\n",
       "      <td>NaN</td>\n",
       "      <td>NaN</td>\n",
       "      <td>2776</td>\n",
       "      <td>2653</td>\n",
       "      <td>989</td>\n",
       "      <td>37.3%</td>\n",
       "      <td>1</td>\n",
       "      <td>122</td>\n",
       "      <td>4.4%</td>\n",
       "      <td>2,776</td>\n",
       "      <td>2,654</td>\n",
       "      <td>122</td>\n",
       "      <td>4.4%</td>\n",
       "    </tr>\n",
       "    <tr>\n",
       "      <th>4</th>\n",
       "      <td>Austria</td>\n",
       "      <td>AZERBAIJAN</td>\n",
       "      <td>BAKU</td>\n",
       "      <td>1</td>\n",
       "      <td>1</td>\n",
       "      <td>1</td>\n",
       "      <td>NaN</td>\n",
       "      <td>NaN</td>\n",
       "      <td>1976</td>\n",
       "      <td>1895</td>\n",
       "      <td>1769</td>\n",
       "      <td>93.4%</td>\n",
       "      <td>2</td>\n",
       "      <td>79</td>\n",
       "      <td>4.0%</td>\n",
       "      <td>1,977</td>\n",
       "      <td>1,898</td>\n",
       "      <td>79</td>\n",
       "      <td>4.0%</td>\n",
       "    </tr>\n",
       "  </tbody>\n",
       "</table>\n",
       "</div>"
      ],
      "text/plain": [
       "  Schengen State Country where consulate is located     Consulate  \\\n",
       "0        Austria                            ALBANIA        TIRANA   \n",
       "1        Austria                            ALGERIA       ALGIERS   \n",
       "2        Austria                          ARGENTINA  BUENOS AIRES   \n",
       "3        Austria                          AUSTRALIA      CANBERRA   \n",
       "4        Austria                         AZERBAIJAN          BAKU   \n",
       "\n",
       "  Airport transit visas (ATVs) applied for   ATVs issued (including multiple)  \\\n",
       "0                                       NaN                               NaN   \n",
       "1                                       NaN                               NaN   \n",
       "2                                       NaN                               NaN   \n",
       "3                                       NaN                               NaN   \n",
       "4                                         1                                 1   \n",
       "\n",
       "  Multiple ATVs issued ATVs not issued  Not issued rate for ATVs  \\\n",
       "0                  NaN              NaN                      NaN   \n",
       "1                  NaN              NaN                      NaN   \n",
       "2                  NaN              NaN                      NaN   \n",
       "3                  NaN              NaN                      NaN   \n",
       "4                    1              NaN                      NaN   \n",
       "\n",
       "  Uniform visas applied for Total  uniform visas issued (including MEV) \\n  \\\n",
       "0                        62                                             32   \n",
       "1                      2481                                           1658   \n",
       "2                        16                                             16   \n",
       "3                      2776                                           2653   \n",
       "4                      1976                                           1895   \n",
       "\n",
       "  Multiple entry uniform visas (MEVs) issued  \\\n",
       "0                                         10   \n",
       "1                                       1461   \n",
       "2                                         16   \n",
       "3                                        989   \n",
       "4                                       1769   \n",
       "\n",
       "  Share of MEVs on total number of uniform visas issued Total LTVs issued  \\\n",
       "0                                              31.3%                   21   \n",
       "1                                              88.1%                    1   \n",
       "2                                             100.0%                  NaN   \n",
       "3                                              37.3%                    1   \n",
       "4                                              93.4%                    2   \n",
       "\n",
       "  Uniform visas not issued Not issued rate for uniform visas  \\\n",
       "0                        9                             14.5%   \n",
       "1                      822                             33.1%   \n",
       "2                      NaN                               NaN   \n",
       "3                      122                              4.4%   \n",
       "4                       79                              4.0%   \n",
       "\n",
       "  Total ATVs and uniform visas applied for  \\\n",
       "0                                       62   \n",
       "1                                    2,481   \n",
       "2                                       16   \n",
       "3                                    2,776   \n",
       "4                                    1,977   \n",
       "\n",
       "  Total ATVs and uniform visas issued  (including multiple ATVs, MEVs and LTVs)   \\\n",
       "0                                                 53                               \n",
       "1                                              1,659                               \n",
       "2                                                 16                               \n",
       "3                                              2,654                               \n",
       "4                                              1,898                               \n",
       "\n",
       "  Total ATVs and uniform visas not issued  \\\n",
       "0                                       9   \n",
       "1                                     822   \n",
       "2                                     NaN   \n",
       "3                                     122   \n",
       "4                                      79   \n",
       "\n",
       "  Not issued rate for ATVs and uniform visas   \n",
       "0                                       14.5%  \n",
       "1                                       33.1%  \n",
       "2                                         NaN  \n",
       "3                                        4.4%  \n",
       "4                                        4.0%  "
      ]
     },
     "execution_count": 70,
     "metadata": {},
     "output_type": "execute_result"
    }
   ],
   "source": [
    "df = pd.read_csv(\"2018-data-for-consulates.csv\")\n",
    "df.head()"
   ]
  },
  {
   "cell_type": "markdown",
   "metadata": {},
   "source": [
    "# Data Cleaning: \n"
   ]
  },
  {
   "cell_type": "markdown",
   "metadata": {},
   "source": [
    "It is a good technique to strip column names of trailing white spaces and \"\\n\" characters. Do that in the cell provided below.\n",
    "- Rename columns with white spaces for e.g. \"Schengen State': 'sch_state'\"\n",
    "- Look into df.strip()"
   ]
  },
  {
   "cell_type": "code",
   "execution_count": 71,
   "metadata": {
    "ExecuteTime": {
     "end_time": "2019-11-14T17:20:19.026697Z",
     "start_time": "2019-11-14T17:20:19.021695Z"
    }
   },
   "outputs": [
    {
     "data": {
      "text/html": [
       "<div>\n",
       "<style scoped>\n",
       "    .dataframe tbody tr th:only-of-type {\n",
       "        vertical-align: middle;\n",
       "    }\n",
       "\n",
       "    .dataframe tbody tr th {\n",
       "        vertical-align: top;\n",
       "    }\n",
       "\n",
       "    .dataframe thead th {\n",
       "        text-align: right;\n",
       "    }\n",
       "</style>\n",
       "<table border=\"1\" class=\"dataframe\">\n",
       "  <thead>\n",
       "    <tr style=\"text-align: right;\">\n",
       "      <th></th>\n",
       "      <th>Schengen_State</th>\n",
       "      <th>Country_where_consulate_is_located</th>\n",
       "      <th>Consulate</th>\n",
       "      <th>Airport_transit_visas_(ATVs)_applied_for</th>\n",
       "      <th>ATVs_issued_(including_multiple)</th>\n",
       "      <th>Multiple_ATVs_issued</th>\n",
       "      <th>ATVs_not_issued</th>\n",
       "      <th>Not_issued_rate_for_ATVs</th>\n",
       "      <th>Uniform_visas_applied_for</th>\n",
       "      <th>Total__uniform_visas_issued_(including_MEV)</th>\n",
       "      <th>Multiple_entry_uniform_visas_(MEVs)_issued</th>\n",
       "      <th>Share_of_MEVs_on_total_number_of_uniform_visas_issued</th>\n",
       "      <th>Total_LTVs_issued</th>\n",
       "      <th>Uniform_visas_not_issued</th>\n",
       "      <th>Not_issued_rate_for_uniform_visas</th>\n",
       "      <th>Total_ATVs_and_uniform_visas_applied_for</th>\n",
       "      <th>Total_ATVs_and_uniform_visas_issued__(including_multiple_ATVs,_MEVs_and_LTVs)</th>\n",
       "      <th>Total_ATVs_and_uniform_visas_not_issued</th>\n",
       "      <th>Not_issued_rate_for_ATVs_and_uniform_visas</th>\n",
       "    </tr>\n",
       "  </thead>\n",
       "  <tbody>\n",
       "    <tr>\n",
       "      <th>0</th>\n",
       "      <td>Austria</td>\n",
       "      <td>ALBANIA</td>\n",
       "      <td>TIRANA</td>\n",
       "      <td>NaN</td>\n",
       "      <td>NaN</td>\n",
       "      <td>NaN</td>\n",
       "      <td>NaN</td>\n",
       "      <td>NaN</td>\n",
       "      <td>62</td>\n",
       "      <td>32</td>\n",
       "      <td>10</td>\n",
       "      <td>31.3%</td>\n",
       "      <td>21</td>\n",
       "      <td>9</td>\n",
       "      <td>14.5%</td>\n",
       "      <td>62</td>\n",
       "      <td>53</td>\n",
       "      <td>9</td>\n",
       "      <td>14.5%</td>\n",
       "    </tr>\n",
       "    <tr>\n",
       "      <th>1</th>\n",
       "      <td>Austria</td>\n",
       "      <td>ALGERIA</td>\n",
       "      <td>ALGIERS</td>\n",
       "      <td>NaN</td>\n",
       "      <td>NaN</td>\n",
       "      <td>NaN</td>\n",
       "      <td>NaN</td>\n",
       "      <td>NaN</td>\n",
       "      <td>2481</td>\n",
       "      <td>1658</td>\n",
       "      <td>1461</td>\n",
       "      <td>88.1%</td>\n",
       "      <td>1</td>\n",
       "      <td>822</td>\n",
       "      <td>33.1%</td>\n",
       "      <td>2,481</td>\n",
       "      <td>1,659</td>\n",
       "      <td>822</td>\n",
       "      <td>33.1%</td>\n",
       "    </tr>\n",
       "    <tr>\n",
       "      <th>2</th>\n",
       "      <td>Austria</td>\n",
       "      <td>ARGENTINA</td>\n",
       "      <td>BUENOS AIRES</td>\n",
       "      <td>NaN</td>\n",
       "      <td>NaN</td>\n",
       "      <td>NaN</td>\n",
       "      <td>NaN</td>\n",
       "      <td>NaN</td>\n",
       "      <td>16</td>\n",
       "      <td>16</td>\n",
       "      <td>16</td>\n",
       "      <td>100.0%</td>\n",
       "      <td>NaN</td>\n",
       "      <td>NaN</td>\n",
       "      <td>NaN</td>\n",
       "      <td>16</td>\n",
       "      <td>16</td>\n",
       "      <td>NaN</td>\n",
       "      <td>NaN</td>\n",
       "    </tr>\n",
       "    <tr>\n",
       "      <th>3</th>\n",
       "      <td>Austria</td>\n",
       "      <td>AUSTRALIA</td>\n",
       "      <td>CANBERRA</td>\n",
       "      <td>NaN</td>\n",
       "      <td>NaN</td>\n",
       "      <td>NaN</td>\n",
       "      <td>NaN</td>\n",
       "      <td>NaN</td>\n",
       "      <td>2776</td>\n",
       "      <td>2653</td>\n",
       "      <td>989</td>\n",
       "      <td>37.3%</td>\n",
       "      <td>1</td>\n",
       "      <td>122</td>\n",
       "      <td>4.4%</td>\n",
       "      <td>2,776</td>\n",
       "      <td>2,654</td>\n",
       "      <td>122</td>\n",
       "      <td>4.4%</td>\n",
       "    </tr>\n",
       "    <tr>\n",
       "      <th>4</th>\n",
       "      <td>Austria</td>\n",
       "      <td>AZERBAIJAN</td>\n",
       "      <td>BAKU</td>\n",
       "      <td>1</td>\n",
       "      <td>1</td>\n",
       "      <td>1</td>\n",
       "      <td>NaN</td>\n",
       "      <td>NaN</td>\n",
       "      <td>1976</td>\n",
       "      <td>1895</td>\n",
       "      <td>1769</td>\n",
       "      <td>93.4%</td>\n",
       "      <td>2</td>\n",
       "      <td>79</td>\n",
       "      <td>4.0%</td>\n",
       "      <td>1,977</td>\n",
       "      <td>1,898</td>\n",
       "      <td>79</td>\n",
       "      <td>4.0%</td>\n",
       "    </tr>\n",
       "  </tbody>\n",
       "</table>\n",
       "</div>"
      ],
      "text/plain": [
       "  Schengen_State Country_where_consulate_is_located     Consulate  \\\n",
       "0        Austria                            ALBANIA        TIRANA   \n",
       "1        Austria                            ALGERIA       ALGIERS   \n",
       "2        Austria                          ARGENTINA  BUENOS AIRES   \n",
       "3        Austria                          AUSTRALIA      CANBERRA   \n",
       "4        Austria                         AZERBAIJAN          BAKU   \n",
       "\n",
       "  Airport_transit_visas_(ATVs)_applied_for ATVs_issued_(including_multiple)  \\\n",
       "0                                      NaN                              NaN   \n",
       "1                                      NaN                              NaN   \n",
       "2                                      NaN                              NaN   \n",
       "3                                      NaN                              NaN   \n",
       "4                                        1                                1   \n",
       "\n",
       "  Multiple_ATVs_issued ATVs_not_issued Not_issued_rate_for_ATVs  \\\n",
       "0                  NaN             NaN                      NaN   \n",
       "1                  NaN             NaN                      NaN   \n",
       "2                  NaN             NaN                      NaN   \n",
       "3                  NaN             NaN                      NaN   \n",
       "4                    1             NaN                      NaN   \n",
       "\n",
       "  Uniform_visas_applied_for Total__uniform_visas_issued_(including_MEV)  \\\n",
       "0                        62                                          32   \n",
       "1                      2481                                        1658   \n",
       "2                        16                                          16   \n",
       "3                      2776                                        2653   \n",
       "4                      1976                                        1895   \n",
       "\n",
       "  Multiple_entry_uniform_visas_(MEVs)_issued  \\\n",
       "0                                         10   \n",
       "1                                       1461   \n",
       "2                                         16   \n",
       "3                                        989   \n",
       "4                                       1769   \n",
       "\n",
       "  Share_of_MEVs_on_total_number_of_uniform_visas_issued Total_LTVs_issued  \\\n",
       "0                                              31.3%                   21   \n",
       "1                                              88.1%                    1   \n",
       "2                                             100.0%                  NaN   \n",
       "3                                              37.3%                    1   \n",
       "4                                              93.4%                    2   \n",
       "\n",
       "  Uniform_visas_not_issued Not_issued_rate_for_uniform_visas  \\\n",
       "0                        9                             14.5%   \n",
       "1                      822                             33.1%   \n",
       "2                      NaN                               NaN   \n",
       "3                      122                              4.4%   \n",
       "4                       79                              4.0%   \n",
       "\n",
       "  Total_ATVs_and_uniform_visas_applied_for  \\\n",
       "0                                       62   \n",
       "1                                    2,481   \n",
       "2                                       16   \n",
       "3                                    2,776   \n",
       "4                                    1,977   \n",
       "\n",
       "  Total_ATVs_and_uniform_visas_issued__(including_multiple_ATVs,_MEVs_and_LTVs)  \\\n",
       "0                                                 53                              \n",
       "1                                              1,659                              \n",
       "2                                                 16                              \n",
       "3                                              2,654                              \n",
       "4                                              1,898                              \n",
       "\n",
       "  Total_ATVs_and_uniform_visas_not_issued  \\\n",
       "0                                       9   \n",
       "1                                     822   \n",
       "2                                     NaN   \n",
       "3                                     122   \n",
       "4                                      79   \n",
       "\n",
       "  Not_issued_rate_for_ATVs_and_uniform_visas  \n",
       "0                                      14.5%  \n",
       "1                                      33.1%  \n",
       "2                                        NaN  \n",
       "3                                       4.4%  \n",
       "4                                       4.0%  "
      ]
     },
     "execution_count": 71,
     "metadata": {},
     "output_type": "execute_result"
    }
   ],
   "source": [
    "# Code here\n",
    "\n",
    "# Firstly, .strip() was used to remove the spaces on the left and right side of the column names. Then I simply renamed the \n",
    "# columns by replacing the space with underscore.\n",
    "\n",
    "df.columns = df.columns.str.strip()\n",
    "\n",
    "df.rename(columns=lambda x: x.replace(' ', '_'), inplace=True) \n",
    "\n",
    "df.head()"
   ]
  },
  {
   "cell_type": "code",
   "execution_count": null,
   "metadata": {
    "ExecuteTime": {
     "end_time": "2019-11-14T16:56:42.861265Z",
     "start_time": "2019-11-14T16:56:42.845253Z"
    }
   },
   "outputs": [],
   "source": []
  },
  {
   "cell_type": "markdown",
   "metadata": {
    "ExecuteTime": {
     "end_time": "2019-11-07T13:59:32.988929Z",
     "start_time": "2019-11-07T13:59:32.977179Z"
    }
   },
   "source": [
    "We are not interested in Airport Transit Visas (ATV). Drop all the columns involving ATVs for e.g. Multiple ATVs issued, ATVs not issued,"
   ]
  },
  {
   "cell_type": "code",
   "execution_count": 72,
   "metadata": {},
   "outputs": [
    {
     "data": {
      "text/plain": [
       "(1913, 19)"
      ]
     },
     "execution_count": 72,
     "metadata": {},
     "output_type": "execute_result"
    }
   ],
   "source": [
    "# Before dropping the ATV columns, we had 19 columns. \n",
    "\n",
    "df.shape"
   ]
  },
  {
   "cell_type": "code",
   "execution_count": 73,
   "metadata": {
    "ExecuteTime": {
     "end_time": "2019-11-14T17:20:19.446911Z",
     "start_time": "2019-11-14T17:20:19.443314Z"
    }
   },
   "outputs": [
    {
     "data": {
      "text/html": [
       "<div>\n",
       "<style scoped>\n",
       "    .dataframe tbody tr th:only-of-type {\n",
       "        vertical-align: middle;\n",
       "    }\n",
       "\n",
       "    .dataframe tbody tr th {\n",
       "        vertical-align: top;\n",
       "    }\n",
       "\n",
       "    .dataframe thead th {\n",
       "        text-align: right;\n",
       "    }\n",
       "</style>\n",
       "<table border=\"1\" class=\"dataframe\">\n",
       "  <thead>\n",
       "    <tr style=\"text-align: right;\">\n",
       "      <th></th>\n",
       "      <th>Schengen_State</th>\n",
       "      <th>Country_where_consulate_is_located</th>\n",
       "      <th>Consulate</th>\n",
       "      <th>Uniform_visas_applied_for</th>\n",
       "      <th>Total__uniform_visas_issued_(including_MEV)</th>\n",
       "      <th>Multiple_entry_uniform_visas_(MEVs)_issued</th>\n",
       "      <th>Share_of_MEVs_on_total_number_of_uniform_visas_issued</th>\n",
       "      <th>Total_LTVs_issued</th>\n",
       "      <th>Uniform_visas_not_issued</th>\n",
       "      <th>Not_issued_rate_for_uniform_visas</th>\n",
       "    </tr>\n",
       "  </thead>\n",
       "  <tbody>\n",
       "    <tr>\n",
       "      <th>0</th>\n",
       "      <td>Austria</td>\n",
       "      <td>ALBANIA</td>\n",
       "      <td>TIRANA</td>\n",
       "      <td>62</td>\n",
       "      <td>32</td>\n",
       "      <td>10</td>\n",
       "      <td>31.3%</td>\n",
       "      <td>21</td>\n",
       "      <td>9</td>\n",
       "      <td>14.5%</td>\n",
       "    </tr>\n",
       "    <tr>\n",
       "      <th>1</th>\n",
       "      <td>Austria</td>\n",
       "      <td>ALGERIA</td>\n",
       "      <td>ALGIERS</td>\n",
       "      <td>2481</td>\n",
       "      <td>1658</td>\n",
       "      <td>1461</td>\n",
       "      <td>88.1%</td>\n",
       "      <td>1</td>\n",
       "      <td>822</td>\n",
       "      <td>33.1%</td>\n",
       "    </tr>\n",
       "    <tr>\n",
       "      <th>2</th>\n",
       "      <td>Austria</td>\n",
       "      <td>ARGENTINA</td>\n",
       "      <td>BUENOS AIRES</td>\n",
       "      <td>16</td>\n",
       "      <td>16</td>\n",
       "      <td>16</td>\n",
       "      <td>100.0%</td>\n",
       "      <td>NaN</td>\n",
       "      <td>NaN</td>\n",
       "      <td>NaN</td>\n",
       "    </tr>\n",
       "    <tr>\n",
       "      <th>3</th>\n",
       "      <td>Austria</td>\n",
       "      <td>AUSTRALIA</td>\n",
       "      <td>CANBERRA</td>\n",
       "      <td>2776</td>\n",
       "      <td>2653</td>\n",
       "      <td>989</td>\n",
       "      <td>37.3%</td>\n",
       "      <td>1</td>\n",
       "      <td>122</td>\n",
       "      <td>4.4%</td>\n",
       "    </tr>\n",
       "    <tr>\n",
       "      <th>4</th>\n",
       "      <td>Austria</td>\n",
       "      <td>AZERBAIJAN</td>\n",
       "      <td>BAKU</td>\n",
       "      <td>1976</td>\n",
       "      <td>1895</td>\n",
       "      <td>1769</td>\n",
       "      <td>93.4%</td>\n",
       "      <td>2</td>\n",
       "      <td>79</td>\n",
       "      <td>4.0%</td>\n",
       "    </tr>\n",
       "  </tbody>\n",
       "</table>\n",
       "</div>"
      ],
      "text/plain": [
       "  Schengen_State Country_where_consulate_is_located     Consulate  \\\n",
       "0        Austria                            ALBANIA        TIRANA   \n",
       "1        Austria                            ALGERIA       ALGIERS   \n",
       "2        Austria                          ARGENTINA  BUENOS AIRES   \n",
       "3        Austria                          AUSTRALIA      CANBERRA   \n",
       "4        Austria                         AZERBAIJAN          BAKU   \n",
       "\n",
       "  Uniform_visas_applied_for Total__uniform_visas_issued_(including_MEV)  \\\n",
       "0                        62                                          32   \n",
       "1                      2481                                        1658   \n",
       "2                        16                                          16   \n",
       "3                      2776                                        2653   \n",
       "4                      1976                                        1895   \n",
       "\n",
       "  Multiple_entry_uniform_visas_(MEVs)_issued  \\\n",
       "0                                         10   \n",
       "1                                       1461   \n",
       "2                                         16   \n",
       "3                                        989   \n",
       "4                                       1769   \n",
       "\n",
       "  Share_of_MEVs_on_total_number_of_uniform_visas_issued Total_LTVs_issued  \\\n",
       "0                                              31.3%                   21   \n",
       "1                                              88.1%                    1   \n",
       "2                                             100.0%                  NaN   \n",
       "3                                              37.3%                    1   \n",
       "4                                              93.4%                    2   \n",
       "\n",
       "  Uniform_visas_not_issued Not_issued_rate_for_uniform_visas  \n",
       "0                        9                             14.5%  \n",
       "1                      822                             33.1%  \n",
       "2                      NaN                               NaN  \n",
       "3                      122                              4.4%  \n",
       "4                       79                              4.0%  "
      ]
     },
     "execution_count": 73,
     "metadata": {},
     "output_type": "execute_result"
    }
   ],
   "source": [
    "#Code here\n",
    "\n",
    "# The ATV columns were simply filtered out using regex and then dropped.\n",
    "\n",
    "df.drop(list(df.filter(regex = 'ATV')), axis = 1, inplace = True)\n",
    "df.head()"
   ]
  },
  {
   "cell_type": "code",
   "execution_count": 74,
   "metadata": {},
   "outputs": [
    {
     "data": {
      "text/plain": [
       "(1913, 10)"
      ]
     },
     "execution_count": 74,
     "metadata": {},
     "output_type": "execute_result"
    }
   ],
   "source": [
    "# After dropping, we are left with 10 columns. \n",
    "\n",
    "df.shape"
   ]
  },
  {
   "cell_type": "code",
   "execution_count": 75,
   "metadata": {
    "ExecuteTime": {
     "end_time": "2019-11-14T16:56:43.332230Z",
     "start_time": "2019-11-14T16:56:43.315383Z"
    }
   },
   "outputs": [
    {
     "data": {
      "text/html": [
       "<div>\n",
       "<style scoped>\n",
       "    .dataframe tbody tr th:only-of-type {\n",
       "        vertical-align: middle;\n",
       "    }\n",
       "\n",
       "    .dataframe tbody tr th {\n",
       "        vertical-align: top;\n",
       "    }\n",
       "\n",
       "    .dataframe thead th {\n",
       "        text-align: right;\n",
       "    }\n",
       "</style>\n",
       "<table border=\"1\" class=\"dataframe\">\n",
       "  <thead>\n",
       "    <tr style=\"text-align: right;\">\n",
       "      <th></th>\n",
       "      <th>sch_state</th>\n",
       "      <th>consulate_country</th>\n",
       "      <th>consulate</th>\n",
       "      <th>uv_applied</th>\n",
       "      <th>uv_mev_issued</th>\n",
       "      <th>mev_issued</th>\n",
       "      <th>mev_issued_%</th>\n",
       "      <th>ltv_issued</th>\n",
       "      <th>uv_not_issued</th>\n",
       "      <th>uv_not_issued_%</th>\n",
       "    </tr>\n",
       "  </thead>\n",
       "  <tbody>\n",
       "    <tr>\n",
       "      <th>0</th>\n",
       "      <td>Austria</td>\n",
       "      <td>ALBANIA</td>\n",
       "      <td>TIRANA</td>\n",
       "      <td>62</td>\n",
       "      <td>32</td>\n",
       "      <td>10</td>\n",
       "      <td>31.3%</td>\n",
       "      <td>21</td>\n",
       "      <td>9</td>\n",
       "      <td>14.5%</td>\n",
       "    </tr>\n",
       "    <tr>\n",
       "      <th>1</th>\n",
       "      <td>Austria</td>\n",
       "      <td>ALGERIA</td>\n",
       "      <td>ALGIERS</td>\n",
       "      <td>2481</td>\n",
       "      <td>1658</td>\n",
       "      <td>1461</td>\n",
       "      <td>88.1%</td>\n",
       "      <td>1</td>\n",
       "      <td>822</td>\n",
       "      <td>33.1%</td>\n",
       "    </tr>\n",
       "    <tr>\n",
       "      <th>2</th>\n",
       "      <td>Austria</td>\n",
       "      <td>ARGENTINA</td>\n",
       "      <td>BUENOS AIRES</td>\n",
       "      <td>16</td>\n",
       "      <td>16</td>\n",
       "      <td>16</td>\n",
       "      <td>100.0%</td>\n",
       "      <td>NaN</td>\n",
       "      <td>NaN</td>\n",
       "      <td>NaN</td>\n",
       "    </tr>\n",
       "    <tr>\n",
       "      <th>3</th>\n",
       "      <td>Austria</td>\n",
       "      <td>AUSTRALIA</td>\n",
       "      <td>CANBERRA</td>\n",
       "      <td>2776</td>\n",
       "      <td>2653</td>\n",
       "      <td>989</td>\n",
       "      <td>37.3%</td>\n",
       "      <td>1</td>\n",
       "      <td>122</td>\n",
       "      <td>4.4%</td>\n",
       "    </tr>\n",
       "    <tr>\n",
       "      <th>4</th>\n",
       "      <td>Austria</td>\n",
       "      <td>AZERBAIJAN</td>\n",
       "      <td>BAKU</td>\n",
       "      <td>1976</td>\n",
       "      <td>1895</td>\n",
       "      <td>1769</td>\n",
       "      <td>93.4%</td>\n",
       "      <td>2</td>\n",
       "      <td>79</td>\n",
       "      <td>4.0%</td>\n",
       "    </tr>\n",
       "  </tbody>\n",
       "</table>\n",
       "</div>"
      ],
      "text/plain": [
       "  sch_state consulate_country     consulate uv_applied uv_mev_issued  \\\n",
       "0   Austria           ALBANIA        TIRANA         62            32   \n",
       "1   Austria           ALGERIA       ALGIERS       2481          1658   \n",
       "2   Austria         ARGENTINA  BUENOS AIRES         16            16   \n",
       "3   Austria         AUSTRALIA      CANBERRA       2776          2653   \n",
       "4   Austria        AZERBAIJAN          BAKU       1976          1895   \n",
       "\n",
       "  mev_issued mev_issued_% ltv_issued uv_not_issued uv_not_issued_%  \n",
       "0         10        31.3%         21             9           14.5%  \n",
       "1       1461        88.1%          1           822           33.1%  \n",
       "2         16       100.0%        NaN           NaN             NaN  \n",
       "3        989        37.3%          1           122            4.4%  \n",
       "4       1769        93.4%          2            79            4.0%  "
      ]
     },
     "execution_count": 75,
     "metadata": {},
     "output_type": "execute_result"
    }
   ],
   "source": [
    "# In order to make our columns more readable and better fit for our Data Analysis, they were renamed with appropriate key terms.\n",
    "\n",
    "df.rename(columns={'Schengen_State': 'sch_state', 'Country_where_consulate_is_located': 'consulate_country', 'Consulate' : 'consulate'}, inplace=True)\n",
    "\n",
    "df.rename(columns={'Uniform_visas_applied_for': 'uv_applied', 'Total__uniform_visas_issued_(including_MEV)': 'uv_mev_issued', 'Multiple_entry_uniform_visas_(MEVs)_issued' : 'mev_issued'}, inplace=True)\n",
    "\n",
    "df.rename(columns={'Share_of_MEVs_on_total_number_of_uniform_visas_issued': 'mev_issued_%', 'Total_LTVs_issued': 'ltv_issued', 'Uniform_visas_not_issued' : 'uv_not_issued', 'Not_issued_rate_for_uniform_visas' : 'uv_not_issued_%'}, inplace=True)\n",
    "\n",
    "df.head()"
   ]
  },
  {
   "cell_type": "code",
   "execution_count": null,
   "metadata": {},
   "outputs": [],
   "source": []
  },
  {
   "cell_type": "markdown",
   "metadata": {},
   "source": [
    "# Missing Values"
   ]
  },
  {
   "cell_type": "markdown",
   "metadata": {},
   "source": [
    "- Drop the rows where Schengen State is missing.\n",
    "- Replace other missing values with zero.\n",
    "- Print the summary for missing values after cleaning."
   ]
  },
  {
   "cell_type": "code",
   "execution_count": 76,
   "metadata": {
    "ExecuteTime": {
     "end_time": "2019-11-14T17:20:20.091896Z",
     "start_time": "2019-11-14T17:20:20.088047Z"
    },
    "scrolled": true
   },
   "outputs": [
    {
     "data": {
      "text/plain": [
       "sch_state             13\n",
       "consulate_country     13\n",
       "consulate             10\n",
       "uv_applied            14\n",
       "uv_mev_issued         54\n",
       "mev_issued           147\n",
       "mev_issued_%         150\n",
       "ltv_issued           846\n",
       "uv_not_issued        361\n",
       "uv_not_issued_%      363\n",
       "dtype: int64"
      ]
     },
     "execution_count": 76,
     "metadata": {},
     "output_type": "execute_result"
    }
   ],
   "source": [
    "# This indicates the number of NAN Values before they countered against.\n",
    "\n",
    "df.isnull().sum()"
   ]
  },
  {
   "cell_type": "code",
   "execution_count": 77,
   "metadata": {
    "ExecuteTime": {
     "end_time": "2019-11-14T17:20:20.279488Z",
     "start_time": "2019-11-14T17:20:20.272509Z"
    }
   },
   "outputs": [],
   "source": [
    "# Code here\n",
    "\n",
    "# In order to counter the Null Values, for sch_state they were simply dropped.\n",
    "# For the quantitative columns, the irregular terms such as % and , were removed and then the NAN values were replaced by 0 \n",
    "# and the converted to float. Float was used because there were some values that had decimals in them.\n",
    "\n",
    "df.dropna(subset=['sch_state'], inplace=True)\n",
    "\n",
    "newdf = df.loc[:, 'uv_applied' : 'uv_not_issued_%']\n",
    "\n",
    "colstocheck = newdf.columns\n",
    "\n",
    "newdf[colstocheck] = newdf[colstocheck].replace({'\\%':''}, regex = True)\n",
    "\n",
    "newdf[colstocheck] = newdf[colstocheck].replace({',':''}, regex = True)\n",
    "\n",
    "newdf[['uv_applied', 'uv_mev_issued', 'mev_issued', 'mev_issued_%', 'ltv_issued', 'uv_not_issued', 'uv_not_issued_%']] = newdf[['uv_applied', 'uv_mev_issued', 'mev_issued', 'mev_issued_%', 'ltv_issued', 'uv_not_issued', 'uv_not_issued_%']].astype(str)\n",
    "\n",
    "newdf[['uv_applied', 'uv_mev_issued', 'mev_issued', 'mev_issued_%', 'ltv_issued', 'uv_not_issued', 'uv_not_issued_%']] = newdf[['uv_applied', 'uv_mev_issued', 'mev_issued', 'mev_issued_%', 'ltv_issued', 'uv_not_issued', 'uv_not_issued_%']].replace('nan', 0)\n",
    "\n",
    "newdf[['uv_applied', 'uv_mev_issued', 'mev_issued', 'mev_issued_%', 'ltv_issued', 'uv_not_issued', 'uv_not_issued_%']] = newdf[['uv_applied', 'uv_mev_issued', 'mev_issued', 'mev_issued_%', 'ltv_issued', 'uv_not_issued', 'uv_not_issued_%']].astype(float)\n",
    "\n",
    "df[['uv_applied', 'uv_mev_issued', 'mev_issued', 'mev_issued_%', 'ltv_issued', 'uv_not_issued', 'uv_not_issued_%']] = newdf[['uv_applied', 'uv_mev_issued', 'mev_issued', 'mev_issued_%', 'ltv_issued', 'uv_not_issued', 'uv_not_issued_%']]\n"
   ]
  },
  {
   "cell_type": "code",
   "execution_count": 78,
   "metadata": {},
   "outputs": [
    {
     "data": {
      "text/html": [
       "<div>\n",
       "<style scoped>\n",
       "    .dataframe tbody tr th:only-of-type {\n",
       "        vertical-align: middle;\n",
       "    }\n",
       "\n",
       "    .dataframe tbody tr th {\n",
       "        vertical-align: top;\n",
       "    }\n",
       "\n",
       "    .dataframe thead th {\n",
       "        text-align: right;\n",
       "    }\n",
       "</style>\n",
       "<table border=\"1\" class=\"dataframe\">\n",
       "  <thead>\n",
       "    <tr style=\"text-align: right;\">\n",
       "      <th></th>\n",
       "      <th>sch_state</th>\n",
       "      <th>consulate_country</th>\n",
       "      <th>consulate</th>\n",
       "      <th>uv_applied</th>\n",
       "      <th>uv_mev_issued</th>\n",
       "      <th>mev_issued</th>\n",
       "      <th>mev_issued_%</th>\n",
       "      <th>ltv_issued</th>\n",
       "      <th>uv_not_issued</th>\n",
       "      <th>uv_not_issued_%</th>\n",
       "    </tr>\n",
       "  </thead>\n",
       "  <tbody>\n",
       "    <tr>\n",
       "      <th>0</th>\n",
       "      <td>Austria</td>\n",
       "      <td>ALBANIA</td>\n",
       "      <td>TIRANA</td>\n",
       "      <td>62.0</td>\n",
       "      <td>32.0</td>\n",
       "      <td>10.0</td>\n",
       "      <td>31.3</td>\n",
       "      <td>21.0</td>\n",
       "      <td>9.0</td>\n",
       "      <td>14.5</td>\n",
       "    </tr>\n",
       "    <tr>\n",
       "      <th>1</th>\n",
       "      <td>Austria</td>\n",
       "      <td>ALGERIA</td>\n",
       "      <td>ALGIERS</td>\n",
       "      <td>2481.0</td>\n",
       "      <td>1658.0</td>\n",
       "      <td>1461.0</td>\n",
       "      <td>88.1</td>\n",
       "      <td>1.0</td>\n",
       "      <td>822.0</td>\n",
       "      <td>33.1</td>\n",
       "    </tr>\n",
       "    <tr>\n",
       "      <th>2</th>\n",
       "      <td>Austria</td>\n",
       "      <td>ARGENTINA</td>\n",
       "      <td>BUENOS AIRES</td>\n",
       "      <td>16.0</td>\n",
       "      <td>16.0</td>\n",
       "      <td>16.0</td>\n",
       "      <td>100.0</td>\n",
       "      <td>0.0</td>\n",
       "      <td>0.0</td>\n",
       "      <td>0.0</td>\n",
       "    </tr>\n",
       "    <tr>\n",
       "      <th>3</th>\n",
       "      <td>Austria</td>\n",
       "      <td>AUSTRALIA</td>\n",
       "      <td>CANBERRA</td>\n",
       "      <td>2776.0</td>\n",
       "      <td>2653.0</td>\n",
       "      <td>989.0</td>\n",
       "      <td>37.3</td>\n",
       "      <td>1.0</td>\n",
       "      <td>122.0</td>\n",
       "      <td>4.4</td>\n",
       "    </tr>\n",
       "    <tr>\n",
       "      <th>4</th>\n",
       "      <td>Austria</td>\n",
       "      <td>AZERBAIJAN</td>\n",
       "      <td>BAKU</td>\n",
       "      <td>1976.0</td>\n",
       "      <td>1895.0</td>\n",
       "      <td>1769.0</td>\n",
       "      <td>93.4</td>\n",
       "      <td>2.0</td>\n",
       "      <td>79.0</td>\n",
       "      <td>4.0</td>\n",
       "    </tr>\n",
       "  </tbody>\n",
       "</table>\n",
       "</div>"
      ],
      "text/plain": [
       "  sch_state consulate_country     consulate  uv_applied  uv_mev_issued  \\\n",
       "0   Austria           ALBANIA        TIRANA        62.0           32.0   \n",
       "1   Austria           ALGERIA       ALGIERS      2481.0         1658.0   \n",
       "2   Austria         ARGENTINA  BUENOS AIRES        16.0           16.0   \n",
       "3   Austria         AUSTRALIA      CANBERRA      2776.0         2653.0   \n",
       "4   Austria        AZERBAIJAN          BAKU      1976.0         1895.0   \n",
       "\n",
       "   mev_issued  mev_issued_%  ltv_issued  uv_not_issued  uv_not_issued_%  \n",
       "0        10.0          31.3        21.0            9.0             14.5  \n",
       "1      1461.0          88.1         1.0          822.0             33.1  \n",
       "2        16.0         100.0         0.0            0.0              0.0  \n",
       "3       989.0          37.3         1.0          122.0              4.4  \n",
       "4      1769.0          93.4         2.0           79.0              4.0  "
      ]
     },
     "execution_count": 78,
     "metadata": {},
     "output_type": "execute_result"
    }
   ],
   "source": [
    "df.head()"
   ]
  },
  {
   "cell_type": "code",
   "execution_count": 79,
   "metadata": {
    "ExecuteTime": {
     "end_time": "2019-11-14T17:20:20.407742Z",
     "start_time": "2019-11-14T17:20:20.400158Z"
    }
   },
   "outputs": [
    {
     "data": {
      "text/plain": [
       "sch_state            0\n",
       "consulate_country    0\n",
       "consulate            0\n",
       "uv_applied           0\n",
       "uv_mev_issued        0\n",
       "mev_issued           0\n",
       "mev_issued_%         0\n",
       "ltv_issued           0\n",
       "uv_not_issued        0\n",
       "uv_not_issued_%      0\n",
       "dtype: int64"
      ]
     },
     "execution_count": 79,
     "metadata": {},
     "output_type": "execute_result"
    }
   ],
   "source": [
    "#Print Summary again\n",
    "\n",
    "# As seen, no Null Values remained in the dataset. \n",
    "\n",
    "df.isnull().sum() "
   ]
  },
  {
   "cell_type": "markdown",
   "metadata": {},
   "source": [
    "- Add columns of \"decisions\" and \"rejection_rate\"\n",
    "- Decisions is total number of decisions taken - sum of visas issued, LTV's issued, Rejected\n",
    "- Rejection rate is what percentage of *decisions* are rejected"
   ]
  },
  {
   "cell_type": "code",
   "execution_count": 80,
   "metadata": {
    "ExecuteTime": {
     "end_time": "2019-11-14T17:20:20.657372Z",
     "start_time": "2019-11-14T17:20:20.649636Z"
    }
   },
   "outputs": [],
   "source": [
    "#Code here\n",
    "df['decisions'] = df.uv_mev_issued + df.ltv_issued + df.uv_not_issued \n",
    "\n",
    "df['rejection_rate'] = (df.uv_not_issued / df.decisions) * 100"
   ]
  },
  {
   "cell_type": "code",
   "execution_count": 81,
   "metadata": {
    "ExecuteTime": {
     "end_time": "2019-11-14T17:20:20.790949Z",
     "start_time": "2019-11-14T17:20:20.783704Z"
    }
   },
   "outputs": [
    {
     "data": {
      "text/html": [
       "<div>\n",
       "<style scoped>\n",
       "    .dataframe tbody tr th:only-of-type {\n",
       "        vertical-align: middle;\n",
       "    }\n",
       "\n",
       "    .dataframe tbody tr th {\n",
       "        vertical-align: top;\n",
       "    }\n",
       "\n",
       "    .dataframe thead th {\n",
       "        text-align: right;\n",
       "    }\n",
       "</style>\n",
       "<table border=\"1\" class=\"dataframe\">\n",
       "  <thead>\n",
       "    <tr style=\"text-align: right;\">\n",
       "      <th></th>\n",
       "      <th>sch_state</th>\n",
       "      <th>consulate_country</th>\n",
       "      <th>consulate</th>\n",
       "      <th>uv_applied</th>\n",
       "      <th>uv_mev_issued</th>\n",
       "      <th>mev_issued</th>\n",
       "      <th>mev_issued_%</th>\n",
       "      <th>ltv_issued</th>\n",
       "      <th>uv_not_issued</th>\n",
       "      <th>uv_not_issued_%</th>\n",
       "      <th>decisions</th>\n",
       "      <th>rejection_rate</th>\n",
       "    </tr>\n",
       "  </thead>\n",
       "  <tbody>\n",
       "    <tr>\n",
       "      <th>0</th>\n",
       "      <td>Austria</td>\n",
       "      <td>ALBANIA</td>\n",
       "      <td>TIRANA</td>\n",
       "      <td>62.0</td>\n",
       "      <td>32.0</td>\n",
       "      <td>10.0</td>\n",
       "      <td>31.3</td>\n",
       "      <td>21.0</td>\n",
       "      <td>9.0</td>\n",
       "      <td>14.5</td>\n",
       "      <td>62.0</td>\n",
       "      <td>14.516129</td>\n",
       "    </tr>\n",
       "    <tr>\n",
       "      <th>1</th>\n",
       "      <td>Austria</td>\n",
       "      <td>ALGERIA</td>\n",
       "      <td>ALGIERS</td>\n",
       "      <td>2481.0</td>\n",
       "      <td>1658.0</td>\n",
       "      <td>1461.0</td>\n",
       "      <td>88.1</td>\n",
       "      <td>1.0</td>\n",
       "      <td>822.0</td>\n",
       "      <td>33.1</td>\n",
       "      <td>2481.0</td>\n",
       "      <td>33.131802</td>\n",
       "    </tr>\n",
       "    <tr>\n",
       "      <th>2</th>\n",
       "      <td>Austria</td>\n",
       "      <td>ARGENTINA</td>\n",
       "      <td>BUENOS AIRES</td>\n",
       "      <td>16.0</td>\n",
       "      <td>16.0</td>\n",
       "      <td>16.0</td>\n",
       "      <td>100.0</td>\n",
       "      <td>0.0</td>\n",
       "      <td>0.0</td>\n",
       "      <td>0.0</td>\n",
       "      <td>16.0</td>\n",
       "      <td>0.000000</td>\n",
       "    </tr>\n",
       "    <tr>\n",
       "      <th>3</th>\n",
       "      <td>Austria</td>\n",
       "      <td>AUSTRALIA</td>\n",
       "      <td>CANBERRA</td>\n",
       "      <td>2776.0</td>\n",
       "      <td>2653.0</td>\n",
       "      <td>989.0</td>\n",
       "      <td>37.3</td>\n",
       "      <td>1.0</td>\n",
       "      <td>122.0</td>\n",
       "      <td>4.4</td>\n",
       "      <td>2776.0</td>\n",
       "      <td>4.394813</td>\n",
       "    </tr>\n",
       "    <tr>\n",
       "      <th>4</th>\n",
       "      <td>Austria</td>\n",
       "      <td>AZERBAIJAN</td>\n",
       "      <td>BAKU</td>\n",
       "      <td>1976.0</td>\n",
       "      <td>1895.0</td>\n",
       "      <td>1769.0</td>\n",
       "      <td>93.4</td>\n",
       "      <td>2.0</td>\n",
       "      <td>79.0</td>\n",
       "      <td>4.0</td>\n",
       "      <td>1976.0</td>\n",
       "      <td>3.997976</td>\n",
       "    </tr>\n",
       "  </tbody>\n",
       "</table>\n",
       "</div>"
      ],
      "text/plain": [
       "  sch_state consulate_country     consulate  uv_applied  uv_mev_issued  \\\n",
       "0   Austria           ALBANIA        TIRANA        62.0           32.0   \n",
       "1   Austria           ALGERIA       ALGIERS      2481.0         1658.0   \n",
       "2   Austria         ARGENTINA  BUENOS AIRES        16.0           16.0   \n",
       "3   Austria         AUSTRALIA      CANBERRA      2776.0         2653.0   \n",
       "4   Austria        AZERBAIJAN          BAKU      1976.0         1895.0   \n",
       "\n",
       "   mev_issued  mev_issued_%  ltv_issued  uv_not_issued  uv_not_issued_%  \\\n",
       "0        10.0          31.3        21.0            9.0             14.5   \n",
       "1      1461.0          88.1         1.0          822.0             33.1   \n",
       "2        16.0         100.0         0.0            0.0              0.0   \n",
       "3       989.0          37.3         1.0          122.0              4.4   \n",
       "4      1769.0          93.4         2.0           79.0              4.0   \n",
       "\n",
       "   decisions  rejection_rate  \n",
       "0       62.0       14.516129  \n",
       "1     2481.0       33.131802  \n",
       "2       16.0        0.000000  \n",
       "3     2776.0        4.394813  \n",
       "4     1976.0        3.997976  "
      ]
     },
     "execution_count": 81,
     "metadata": {},
     "output_type": "execute_result"
    }
   ],
   "source": [
    "df.head()"
   ]
  },
  {
   "cell_type": "markdown",
   "metadata": {},
   "source": [
    "# Hypothesis Testing"
   ]
  },
  {
   "cell_type": "markdown",
   "metadata": {},
   "source": [
    "- We will be picking three countries.\n",
    "- The three countries are Egypt, India and Japan.\n",
    "- You need to test whether in there is a better _chance_ of getting a visa if you apply to a particukar consulate within that country or is it by chance.\n",
    "- Add subheadings for each country"
   ]
  },
  {
   "cell_type": "markdown",
   "metadata": {
    "ExecuteTime": {
     "end_time": "2019-11-08T07:16:05.739832Z",
     "start_time": "2019-11-08T07:16:05.698884Z"
    }
   },
   "source": [
    "In order to answer this question correctly, we need to define the population and the sample we will use:\n",
    "1. Population: Total number of applicants/rejects in all the country.\n",
    "2. Sample: Total number of applicants/rejects in all the targeted consulates.\n",
    "The null hypothesis, which is a prediction that there is no significant difference between a specific consulate over all other consulates and that these numbers could have happened out naturally due to fluctations in application qualities received.\n",
    "In order to proceed with this, we need to make a rather **BIG** assumption, that all applications to all consulates have the same *average* quality or that they came from the same pool/population.\n",
    "\n"
   ]
  },
  {
   "cell_type": "markdown",
   "metadata": {},
   "source": [
    "\n",
    "*Does this assumption make sense?*\n",
    "\n",
    "_Write why or why not?_"
   ]
  },
  {
   "cell_type": "markdown",
   "metadata": {},
   "source": [
    "*Write here*\n",
    "\n",
    "Yes this assumption makes sense and its important to make this assumption because for our test, we're assuming there is no explicit difference between the population and the sample. Meaning that our treatment group and control group both are unaware of their roles and this reduces our bias. This actually correlates with the Null Hypothesis which treats both of the groups as same and the difference resulting is random.  \n"
   ]
  },
  {
   "cell_type": "markdown",
   "metadata": {},
   "source": [
    "#  We can conduct this using univariate T-test.\n",
    "You will use the scipy package.\n",
    "This links will help you get started:\n",
    "    - https://towardsdatascience.com/hypothesis-testing-in-machine-learning-using-python-a0dc89e169ce\n",
    "    \n",
    "    \n",
    "You need to calculate the test statistic and choose an appropriate p-value. Mention why you think this is an appropriate p-value. Once you have the test statistic, you need to sample and test your hypothesis.\n",
    "    "
   ]
  },
  {
   "cell_type": "markdown",
   "metadata": {},
   "source": [
    "For each country:\n",
    "   - Plot a piechart showing the consulates with the highest number of decisions.\n",
    "   - You will be running your hypothesis tests w.r.t three attributes\n",
    "       - Rejection rate (if you have a weak visa application)\n",
    "       - Multi-Entry Visa Share (if you have a strong visa application)\n",
    "       - Weighted Score: You are required to calculate a normalized engineered feature\n",
    "           - (1-rejection_rate) * mevs_share\n",
    "           - Normalize this score\n",
    "        "
   ]
  },
  {
   "cell_type": "markdown",
   "metadata": {},
   "source": [
    "You are required to submit an analysis of *EACH* country why you think your hypothesis were rejected/accepted. You can include geo-political factors in your report as well."
   ]
  },
  {
   "cell_type": "markdown",
   "metadata": {},
   "source": [
    "# a) Pie Charts"
   ]
  },
  {
   "cell_type": "markdown",
   "metadata": {},
   "source": [
    "#  Egypt"
   ]
  },
  {
   "cell_type": "code",
   "execution_count": 82,
   "metadata": {
    "ExecuteTime": {
     "end_time": "2019-11-14T17:20:23.525639Z",
     "start_time": "2019-11-14T17:20:23.521548Z"
    },
    "scrolled": true
   },
   "outputs": [
    {
     "data": {
      "image/png": "[encoded data removed]",
      "text/plain": [
       "<Figure size 1080x1080 with 1 Axes>"
      ]
     },
     "metadata": {},
     "output_type": "display_data"
    }
   ],
   "source": [
    "#Code here\n",
    "egypt_df = df[df['consulate_country'] == 'EGYPT']\n",
    "\n",
    "my_consulates = egypt_df.groupby('sch_state')['decisions'].sum().nlargest(len(egypt_df))\n",
    "\n",
    "egypt_label = my_consulates.index \n",
    "\n",
    "plt.figure(figsize=(15,15))\n",
    "plt.pie(my_consulates, autopct='%1.1f%%', labels = egypt_label, labeldistance=1.05)\n",
    "plt.title('Egypt Consulates', weight='bold', size=14)\n",
    "plt.axis('equal')\n",
    "plt.show()\n"
   ]
  },
  {
   "cell_type": "code",
   "execution_count": null,
   "metadata": {},
   "outputs": [],
   "source": []
  },
  {
   "cell_type": "markdown",
   "metadata": {},
   "source": [
    "# India"
   ]
  },
  {
   "cell_type": "code",
   "execution_count": 83,
   "metadata": {},
   "outputs": [
    {
     "data": {
      "image/png": "[encoded data removed]",
      "text/plain": [
       "<Figure size 1080x1080 with 1 Axes>"
      ]
     },
     "metadata": {},
     "output_type": "display_data"
    }
   ],
   "source": [
    "india_df = df[df['consulate_country'] == 'INDIA']\n",
    "\n",
    "my_consulates_two = india_df.groupby('sch_state')['decisions'].sum().nlargest(len(india_df))\n",
    "\n",
    "india_label = my_consulates_two.index \n",
    "\n",
    "plt.figure(figsize=(15,15))\n",
    "plt.pie(my_consulates_two, autopct='%1.1f%%', labels = india_label, labeldistance=1.05)\n",
    "plt.title('India Consulates', weight='bold', size=14)\n",
    "plt.axis('equal')\n",
    "plt.show()\n"
   ]
  },
  {
   "cell_type": "code",
   "execution_count": null,
   "metadata": {},
   "outputs": [],
   "source": []
  },
  {
   "cell_type": "markdown",
   "metadata": {},
   "source": [
    "# Japan"
   ]
  },
  {
   "cell_type": "code",
   "execution_count": 84,
   "metadata": {},
   "outputs": [
    {
     "data": {
      "image/png": "[encoded data removed]",
      "text/plain": [
       "<Figure size 1080x1080 with 1 Axes>"
      ]
     },
     "metadata": {},
     "output_type": "display_data"
    }
   ],
   "source": [
    "japan_df = df[df['consulate_country'] == 'JAPAN']\n",
    "\n",
    "my_consulates_three = japan_df.groupby('sch_state')['decisions'].sum().nlargest(len(japan_df))\n",
    "\n",
    "japan_label = my_consulates_three.index \n",
    "\n",
    "plt.figure(figsize=(15,15))\n",
    "plt.pie(my_consulates_three, autopct='%1.1f%%', labels = japan_label, labeldistance=1.05)\n",
    "plt.title('Japan Consulates', weight='bold', size=14)\n",
    "plt.axis('equal')\n",
    "plt.show()\n"
   ]
  },
  {
   "cell_type": "code",
   "execution_count": null,
   "metadata": {},
   "outputs": [],
   "source": []
  },
  {
   "cell_type": "markdown",
   "metadata": {},
   "source": [
    "# b) i) Rejection rate"
   ]
  },
  {
   "cell_type": "markdown",
   "metadata": {},
   "source": [
    "# Egypt"
   ]
  },
  {
   "cell_type": "code",
   "execution_count": 85,
   "metadata": {},
   "outputs": [
    {
     "name": "stdout",
     "output_type": "stream",
     "text": [
      "Pval:  0.03923537315400779\n",
      "Country:  Estonia\n",
      "We Accept Null Hypothesis\n",
      "\n",
      "Pval:  0.4927881585147095\n",
      "Country:  Latvia\n",
      "We Accept Null Hypothesis\n",
      "\n",
      "Pval:  0.2083656999224238\n",
      "Country:  Slovenia\n",
      "We Accept Null Hypothesis\n",
      "\n"
     ]
    }
   ],
   "source": [
    "egypt_df['accepted'] = egypt_df.decisions - egypt_df.uv_not_issued\n",
    "\n",
    "accept = []\n",
    "reject = []\n",
    "my_arr = []\n",
    "\n",
    "my_mean = (egypt_df['rejection_rate'].mean()) / 100\n",
    "\n",
    "for i in egypt_df.iterrows():\n",
    "    accept = [0 for x in range(int(i[1]['accepted']))]\n",
    "    reject = [1 for x in range(int(i[1]['uv_not_issued']))]\n",
    "    my_arr = accept + reject\n",
    "    ttest,pval = ttest_1samp(my_arr, my_mean)\n",
    "    if pval < (0.05/2):\n",
    "        continue\n",
    "    else:\n",
    "        print(\"Pval: \", pval)\n",
    "        print(\"Country: \", i[1]['sch_state'])\n",
    "        print(\"We Accept Null Hypothesis\")\n",
    "        print()\n",
    "      "
   ]
  },
  {
   "cell_type": "code",
   "execution_count": null,
   "metadata": {},
   "outputs": [],
   "source": []
  },
  {
   "cell_type": "markdown",
   "metadata": {},
   "source": [
    "# India"
   ]
  },
  {
   "cell_type": "code",
   "execution_count": 86,
   "metadata": {},
   "outputs": [
    {
     "name": "stdout",
     "output_type": "stream",
     "text": [
      "Pval:  0.09008784891544572\n",
      "Country:  Belgium\n",
      "We Accept Null Hypothesis\n",
      "\n",
      "Pval:  0.8418153330821265\n",
      "Country:  Germany\n",
      "We Accept Null Hypothesis\n",
      "\n",
      "Pval:  0.7169374491235172\n",
      "Country:  Spain\n",
      "We Accept Null Hypothesis\n",
      "\n"
     ]
    }
   ],
   "source": [
    "india_df['accepted'] = india_df.decisions - india_df.uv_not_issued\n",
    "\n",
    "accept_two = []\n",
    "reject_two = []\n",
    "my_arr_two = []\n",
    "\n",
    "my_mean_two = (india_df['rejection_rate'].mean()) / 100\n",
    "\n",
    "for i in india_df.iterrows():\n",
    "    accept_two = [0 for x in range(int(i[1]['accepted']))]\n",
    "    reject_two = [1 for x in range(int(i[1]['uv_not_issued']))]\n",
    "    my_arr_two = accept_two + reject_two\n",
    "    ttest,pval = ttest_1samp(my_arr_two, my_mean_two)\n",
    "    if pval < (0.05/2):\n",
    "        continue\n",
    "    else:\n",
    "        print(\"Pval: \", pval)\n",
    "        print(\"Country: \", i[1]['sch_state'])\n",
    "        print(\"We Accept Null Hypothesis\")\n",
    "        print()\n",
    "\n"
   ]
  },
  {
   "cell_type": "code",
   "execution_count": null,
   "metadata": {},
   "outputs": [],
   "source": []
  },
  {
   "cell_type": "markdown",
   "metadata": {},
   "source": [
    "# Japan"
   ]
  },
  {
   "cell_type": "code",
   "execution_count": 87,
   "metadata": {},
   "outputs": [
    {
     "name": "stdout",
     "output_type": "stream",
     "text": [
      "Pval:  0.05252498362888584\n",
      "Country:  Belgium\n",
      "We Accept Null Hypothesis\n",
      "\n",
      "Pval:  0.9395330812903009\n",
      "Country:  Estonia\n",
      "We Accept Null Hypothesis\n",
      "\n",
      "Pval:  0.4358498010797103\n",
      "Country:  Finland\n",
      "We Accept Null Hypothesis\n",
      "\n",
      "Pval:  0.25511527301851616\n",
      "Country:  Germany\n",
      "We Accept Null Hypothesis\n",
      "\n",
      "Pval:  0.884677535096405\n",
      "Country:  Greece\n",
      "We Accept Null Hypothesis\n",
      "\n",
      "Pval:  0.8756053463047314\n",
      "Country:  Lithuania\n",
      "We Accept Null Hypothesis\n",
      "\n",
      "Pval:  0.6651425102352464\n",
      "Country:  Luxembourg\n",
      "We Accept Null Hypothesis\n",
      "\n",
      "Pval:  0.027478168330020585\n",
      "Country:  Norway\n",
      "We Accept Null Hypothesis\n",
      "\n",
      "Pval:  0.2610383993559934\n",
      "Country:  Poland\n",
      "We Accept Null Hypothesis\n",
      "\n",
      "Pval:  0.09362570575726312\n",
      "Country:  Portugal\n",
      "We Accept Null Hypothesis\n",
      "\n",
      "Pval:  0.4808181268993471\n",
      "Country:  Slovenia\n",
      "We Accept Null Hypothesis\n",
      "\n",
      "Pval:  0.2333158545690592\n",
      "Country:  Sweden\n",
      "We Accept Null Hypothesis\n",
      "\n",
      "Pval:  0.32092560571586654\n",
      "Country:  Switzerland\n",
      "We Accept Null Hypothesis\n",
      "\n"
     ]
    }
   ],
   "source": [
    "japan_df['accepted'] = japan_df.decisions - japan_df.uv_not_issued\n",
    "\n",
    "accept_three = []\n",
    "reject_three = []\n",
    "my_arr_three = []\n",
    "\n",
    "my_mean_three = (japan_df['rejection_rate'].mean()) / 100\n",
    "\n",
    "for i in japan_df.iterrows():\n",
    "    accept_three = [0 for x in range(int(i[1]['accepted']))]\n",
    "    reject_three = [1 for x in range(int(i[1]['uv_not_issued']))]\n",
    "    my_arr_three = accept_three + reject_three\n",
    "    ttest,pval = ttest_1samp(my_arr_three, my_mean_three)\n",
    "    if pval < (0.05/2):\n",
    "        continue\n",
    "    else:\n",
    "        print(\"Pval: \", pval)\n",
    "        print(\"Country: \", i[1]['sch_state'])\n",
    "        print(\"We Accept Null Hypothesis\")\n",
    "        print()\n"
   ]
  },
  {
   "cell_type": "code",
   "execution_count": null,
   "metadata": {},
   "outputs": [],
   "source": []
  },
  {
   "cell_type": "markdown",
   "metadata": {},
   "source": [
    "# b) ii) Multi-Entry Visa Share "
   ]
  },
  {
   "cell_type": "markdown",
   "metadata": {},
   "source": [
    "# Egypt"
   ]
  },
  {
   "cell_type": "code",
   "execution_count": 88,
   "metadata": {},
   "outputs": [
    {
     "name": "stdout",
     "output_type": "stream",
     "text": [
      "Pval:  0.06157810959035441\n",
      "Country:  Estonia\n",
      "We Accept Null Hypothesis\n",
      "\n",
      "Pval:  0.10023232936108525\n",
      "Country:  Latvia\n",
      "We Accept Null Hypothesis\n",
      "\n"
     ]
    }
   ],
   "source": [
    "egypt_df['difference'] = egypt_df.uv_mev_issued - egypt_df.mev_issued\n",
    "\n",
    "accept_four = []\n",
    "reject_four = []\n",
    "my_arr_four = []\n",
    "\n",
    "my_mean_four = (egypt_df['mev_issued_%'].mean()) / 100\n",
    "\n",
    "for i in egypt_df.iterrows():\n",
    "    accept_four = [0 for x in range(int(i[1]['difference']))]\n",
    "    reject_four = [1 for x in range(int(i[1]['mev_issued']))]\n",
    "    my_arr_four = accept_four + reject_four\n",
    "    ttest,pval = ttest_1samp(my_arr_four, my_mean_four)\n",
    "    if pval < (0.05/2):\n",
    "        continue\n",
    "    else:\n",
    "        print(\"Pval: \", pval)\n",
    "        print(\"Country: \", i[1]['sch_state'])\n",
    "        print(\"We Accept Null Hypothesis\")\n",
    "        print()\n"
   ]
  },
  {
   "cell_type": "code",
   "execution_count": null,
   "metadata": {},
   "outputs": [],
   "source": []
  },
  {
   "cell_type": "markdown",
   "metadata": {},
   "source": [
    "# India"
   ]
  },
  {
   "cell_type": "code",
   "execution_count": 89,
   "metadata": {},
   "outputs": [
    {
     "name": "stdout",
     "output_type": "stream",
     "text": [
      "All p-Values were Rejected in this Case\n"
     ]
    }
   ],
   "source": [
    "india_df['difference'] = india_df.uv_mev_issued - india_df.mev_issued\n",
    "\n",
    "accept_five = []\n",
    "reject_five = []\n",
    "my_arr_five = []\n",
    "\n",
    "my_mean_five = (india_df['mev_issued_%'].mean()) / 100\n",
    "\n",
    "for i in india_df.iterrows():\n",
    "    accept_five = [0 for x in range(int(i[1]['difference']))]\n",
    "    reject_five = [1 for x in range(int(i[1]['mev_issued']))]\n",
    "    my_arr_five = accept_five + reject_five\n",
    "    ttest,pval = ttest_1samp(my_arr_five, my_mean_five)\n",
    "    if pval < (0.05/2):\n",
    "        continue\n",
    "    else:\n",
    "        print(\"Pval: \", pval)\n",
    "        print(\"Country: \", i[1]['sch_state'])\n",
    "        print(\"We Accept Null Hypothesis\")\n",
    "        print()\n",
    "        \n",
    "print(\"All p-Values were Rejected in this Case\")\n"
   ]
  },
  {
   "cell_type": "code",
   "execution_count": null,
   "metadata": {},
   "outputs": [],
   "source": []
  },
  {
   "cell_type": "markdown",
   "metadata": {},
   "source": [
    "# Japan"
   ]
  },
  {
   "cell_type": "code",
   "execution_count": 90,
   "metadata": {},
   "outputs": [
    {
     "name": "stdout",
     "output_type": "stream",
     "text": [
      "Pval:  0.6683546839972665\n",
      "Country:  Estonia\n",
      "We Accept Null Hypothesis\n",
      "\n",
      "Pval:  0.08450095917406912\n",
      "Country:  Greece\n",
      "We Accept Null Hypothesis\n",
      "\n",
      "Pval:  0.22409594767671795\n",
      "Country:  Slovakia\n",
      "We Accept Null Hypothesis\n",
      "\n",
      "Pval:  0.032057926197961245\n",
      "Country:  Slovenia\n",
      "We Accept Null Hypothesis\n",
      "\n"
     ]
    }
   ],
   "source": [
    "japan_df['difference'] = japan_df.uv_mev_issued - japan_df.mev_issued\n",
    "\n",
    "accept_six = []\n",
    "reject_six = []\n",
    "my_arr_six = []\n",
    "\n",
    "my_mean_six = (japan_df['mev_issued_%'].mean()) / 100\n",
    "\n",
    "for i in japan_df.iterrows():\n",
    "    accept_six = [0 for x in range(int(i[1]['difference']))]\n",
    "    reject_six = [1 for x in range(int(i[1]['mev_issued']))]\n",
    "    my_arr_six = accept_six + reject_six\n",
    "    ttest,pval = ttest_1samp(my_arr_six, my_mean_six)\n",
    "    if pval < (0.05/2):\n",
    "        continue\n",
    "    else:\n",
    "        print(\"Pval: \", pval)\n",
    "        print(\"Country: \", i[1]['sch_state'])\n",
    "        print(\"We Accept Null Hypothesis\")\n",
    "        print()\n"
   ]
  },
  {
   "cell_type": "code",
   "execution_count": null,
   "metadata": {},
   "outputs": [],
   "source": []
  },
  {
   "cell_type": "markdown",
   "metadata": {},
   "source": [
    "# Weighted Score"
   ]
  },
  {
   "cell_type": "markdown",
   "metadata": {},
   "source": [
    "# Egypt"
   ]
  },
  {
   "cell_type": "code",
   "execution_count": 91,
   "metadata": {},
   "outputs": [
    {
     "name": "stdout",
     "output_type": "stream",
     "text": [
      "Pval:  0.025232548918042656\n",
      "Country:  Finland\n",
      "We Accept Null Hypothesis\n",
      "\n"
     ]
    }
   ],
   "source": [
    "egypt_df['before'] = (1 - (egypt_df['rejection_rate'] / 100)) * (egypt_df['mev_issued_%'] / 100) \n",
    "\n",
    "egypt_df['weighted'] = (egypt_df.before - egypt_df.before.min()) / (egypt_df.before.max() - egypt_df.before.min())                 \n",
    "\n",
    "egypt_df['select'] = egypt_df.weighted * egypt_df.decisions\n",
    "\n",
    "egypt_df['not_select'] = (1 - egypt_df.weighted) * egypt_df.decisions\n",
    "\n",
    "accept_seven = []\n",
    "reject_seven = []\n",
    "my_arr_seven = []\n",
    "\n",
    "my_mean_seven = (egypt_df['weighted'].mean())\n",
    "\n",
    "for i in egypt_df.iterrows():\n",
    "    accept_seven = [1 for x in range(int(i[1]['select']))]\n",
    "    reject_seven = [0 for x in range(int(i[1]['not_select']))]\n",
    "    my_arr_seven = accept_seven + reject_seven\n",
    "    ttest,pval = ttest_1samp(my_arr_seven, my_mean_seven)\n",
    "    if pval < (0.05/2):\n",
    "        continue\n",
    "    else:\n",
    "        print(\"Pval: \", pval)\n",
    "        print(\"Country: \", i[1]['sch_state'])\n",
    "        print(\"We Accept Null Hypothesis\")\n",
    "        print()\n",
    "    "
   ]
  },
  {
   "cell_type": "code",
   "execution_count": null,
   "metadata": {},
   "outputs": [],
   "source": []
  },
  {
   "cell_type": "markdown",
   "metadata": {},
   "source": [
    "# India"
   ]
  },
  {
   "cell_type": "code",
   "execution_count": 92,
   "metadata": {},
   "outputs": [
    {
     "name": "stdout",
     "output_type": "stream",
     "text": [
      "All p-Values were Rejected in this Case\n"
     ]
    }
   ],
   "source": [
    "india_df['before'] = (1 - (india_df['rejection_rate'] / 100)) * (india_df['mev_issued_%'] / 100) \n",
    "\n",
    "india_df['weighted'] = (india_df.before - india_df.before.min()) / (india_df.before.max() - india_df.before.min())                 \n",
    "\n",
    "india_df['select'] = india_df.weighted * india_df.decisions\n",
    "\n",
    "india_df['not_select'] = (1 - india_df.weighted) * india_df.decisions\n",
    "\n",
    "accept_eight = []\n",
    "reject_eight = []\n",
    "my_arr_eight = []\n",
    "\n",
    "my_mean_eight = (india_df['weighted'].mean())\n",
    "\n",
    "for i in india_df.iterrows():\n",
    "    accept_eight = [1 for x in range(int(i[1]['select']))]\n",
    "    reject_eight = [0 for x in range(int(i[1]['not_select']))]\n",
    "    my_arr_eight = accept_eight + reject_eight\n",
    "    ttest,pval = ttest_1samp(my_arr_eight, my_mean_eight)\n",
    "    if pval < (0.05/2):\n",
    "        continue\n",
    "    else:\n",
    "        print(\"Pval: \", pval)\n",
    "        print(\"Country: \", i[1]['sch_state'])\n",
    "        print(\"We Accept Null Hypothesis\")\n",
    "        print()\n",
    "    \n",
    "print(\"All p-Values were Rejected in this Case\")\n"
   ]
  },
  {
   "cell_type": "code",
   "execution_count": null,
   "metadata": {},
   "outputs": [],
   "source": []
  },
  {
   "cell_type": "markdown",
   "metadata": {},
   "source": [
    "# Japan"
   ]
  },
  {
   "cell_type": "code",
   "execution_count": 93,
   "metadata": {},
   "outputs": [
    {
     "name": "stdout",
     "output_type": "stream",
     "text": [
      "Pval:  0.762227329956259\n",
      "Country:  Estonia\n",
      "We Accept Null Hypothesis\n",
      "\n",
      "Pval:  0.08262369352504043\n",
      "Country:  Greece\n",
      "We Accept Null Hypothesis\n",
      "\n",
      "Pval:  0.041170111097313875\n",
      "Country:  Hungary\n",
      "We Accept Null Hypothesis\n",
      "\n",
      "Pval:  0.34967614336339026\n",
      "Country:  Slovakia\n",
      "We Accept Null Hypothesis\n",
      "\n",
      "Pval:  0.03440813901845775\n",
      "Country:  Slovenia\n",
      "We Accept Null Hypothesis\n",
      "\n"
     ]
    }
   ],
   "source": [
    "japan_df['before'] = (1 - (japan_df['rejection_rate'] / 100)) * (japan_df['mev_issued_%'] / 100) \n",
    "\n",
    "japan_df['weighted'] = (japan_df.before - japan_df.before.min()) / (japan_df.before.max() - japan_df.before.min())                 \n",
    "\n",
    "japan_df['select'] = japan_df.weighted * japan_df.decisions\n",
    "\n",
    "japan_df['not_select'] = (1 - japan_df.weighted) * japan_df.decisions\n",
    "\n",
    "accept_nine = []\n",
    "reject_nine = []\n",
    "my_arr_nine = []\n",
    "\n",
    "my_mean_nine = (japan_df['weighted'].mean())\n",
    "\n",
    "for i in japan_df.iterrows():\n",
    "    accept_nine = [1 for x in range(int(i[1]['select']))]\n",
    "    reject_nine = [0 for x in range(int(i[1]['not_select']))]\n",
    "    my_arr_nine = accept_nine + reject_nine\n",
    "    ttest,pval = ttest_1samp(my_arr_nine, my_mean_nine)\n",
    "    if pval < (0.05/2):\n",
    "        continue\n",
    "    else:\n",
    "        print(\"Pval: \", pval)\n",
    "        print(\"Country: \", i[1]['sch_state'])\n",
    "        print(\"We Accept Null Hypothesis\")\n",
    "        print()\n",
    "    "
   ]
  },
  {
   "cell_type": "markdown",
   "metadata": {},
   "source": [
    "# Analysis of the Three Countries -> Egypt, India, Japan\n"
   ]
  },
  {
   "cell_type": "markdown",
   "metadata": {},
   "source": [
    "# Egypt\n",
    "\n",
    "For Egypt, the Null Hypothesis being accepted for the Schengen states all seem to be quite far from Egypt (some having seas between them) except for Latvia with whom Egypt seems to have good relations and seems to be interested in expanding their economic cooperation with eachother according to the article:\n",
    "https://www.mfa.gov.lv/en/news/latest-news/63755-egypt-interested-in-expanding-economic-cooperation-with-latvia\n",
    "\n",
    "For the European Countries, there is also the news that they plan to stop visa shopping as according to the article:\n",
    "https://www.theregister.co.uk/2007/06/08/schengen_visa_data/\n"
   ]
  },
  {
   "cell_type": "code",
   "execution_count": null,
   "metadata": {},
   "outputs": [],
   "source": []
  },
  {
   "cell_type": "markdown",
   "metadata": {},
   "source": [
    "# India\n",
    "\n",
    "For India, the Null Hypothesis seems to be rejected by many countries. Since India is one of the most populated countries in the world, majority of people apply for Visas to Schengen States as reported by the link:\n",
    "https://www.schengenvisainfo.com/news/india-among-top-five-countries-with-most-schengen-visa-application-in-2017/\n",
    "\n",
    "So in order to reduce their waiting time, many try to look for an alternative way through visa shopping and thus due to so many visa requests, many of them get rejected."
   ]
  },
  {
   "cell_type": "code",
   "execution_count": null,
   "metadata": {},
   "outputs": [],
   "source": []
  },
  {
   "cell_type": "markdown",
   "metadata": {},
   "source": [
    "# Japan\n",
    "\n",
    "For Japan, the results are much better compared to India and Egypt and the Null Hypothesis is accepted for many countries. Being a country better financially and more developed compared to two, Japan has set up better policies and systems for their processes. As a result of which, more people are able to get a Visa. \n",
    "\n",
    "However there are also numerous Null Hypothesis rejections which may be due to the fact that many might've made some errors during the Visa application or might have not followed some important factors as stated in the link:\n",
    "https://www.schengenvisainfo.com/news/common-reasons-visa-applications-get-rejected/\n"
   ]
  },
  {
   "cell_type": "code",
   "execution_count": null,
   "metadata": {},
   "outputs": [],
   "source": []
  }
 ],
 "metadata": {
  "file_extension": ".py",
  "kernelspec": {
   "display_name": "Python 3",
   "language": "python",
   "name": "python3"
  },
  "language_info": {
   "codemirror_mode": {
    "name": "ipython",
    "version": 3
   },
   "file_extension": ".py",
   "mimetype": "text/x-python",
   "name": "python",
   "nbconvert_exporter": "python",
   "pygments_lexer": "ipython3",
   "version": "3.7.3"
  },
  "mimetype": "text/x-python",
  "name": "python",
  "npconvert_exporter": "python",
  "pygments_lexer": "ipython3",
  "version": 3
 },
 "nbformat": 4,
 "nbformat_minor": 2
}
